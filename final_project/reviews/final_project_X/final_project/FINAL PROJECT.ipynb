{
 "cells": [
  {
   "cell_type": "markdown",
   "metadata": {
    "collapsed": true
   },
   "source": [
    "# Coursera - Advanced Machine Learning: Course 2\n",
    "# Final Project"
   ]
  },
  {
   "cell_type": "code",
   "execution_count": null,
   "metadata": {
    "collapsed": true
   },
   "outputs": [],
   "source": [
    "## IMPORT LIBRARIES"
   ]
  },
  {
   "cell_type": "code",
   "execution_count": 1,
   "metadata": {
    "collapsed": true
   },
   "outputs": [],
   "source": [
    "import pandas as pd\n",
    "import numpy as np\n",
    "import gc\n",
    "import os\n",
    "import re\n",
    "import pickle\n",
    "import matplotlib.pyplot as plt\n",
    "%matplotlib inline \n",
    "\n",
    "pd.set_option('display.max_rows', 600)\n",
    "pd.set_option('display.max_columns', 50)\n",
    "\n",
    "import lightgbm as lgb\n",
    "from sklearn.linear_model import LinearRegression\n",
    "from sklearn.ensemble import RandomForestRegressor\n",
    "from sklearn.metrics import r2_score, mean_squared_error\n",
    "from tqdm import tqdm_notebook\n",
    "\n",
    "from itertools import product\n"
   ]
  },
  {
   "cell_type": "code",
   "execution_count": 2,
   "metadata": {
    "collapsed": true
   },
   "outputs": [],
   "source": [
    "## define helper functions"
   ]
  },
  {
   "cell_type": "code",
   "execution_count": 3,
   "metadata": {
    "collapsed": true
   },
   "outputs": [],
   "source": [
    "def downcast_dtypes(df):\n",
    "    '''\n",
    "        Changes column types in the dataframe: \n",
    "                \n",
    "                `float64` type to `float32`\n",
    "                `int64`   type to `int32`\n",
    "    '''\n",
    "    \n",
    "    # Select columns to downcast\n",
    "    float_cols = [c for c in df if df[c].dtype == \"float64\"]\n",
    "    int_cols =   [c for c in df if df[c].dtype == \"int64\"]\n",
    "    \n",
    "    # Downcast\n",
    "    df[float_cols] = df[float_cols].astype(np.float32)\n",
    "    df[int_cols]   = df[int_cols].astype(np.int32)\n",
    "    \n",
    "    return df"
   ]
  },
  {
   "cell_type": "code",
   "execution_count": 4,
   "metadata": {
    "collapsed": true
   },
   "outputs": [],
   "source": [
    "# define folder path\n",
    "folder_path = {'local':'./', 'cousera': './'}"
   ]
  },
  {
   "cell_type": "markdown",
   "metadata": {},
   "source": [
    "### Load data and concatenate train and test sets\n"
   ]
  },
  {
   "cell_type": "code",
   "execution_count": 5,
   "metadata": {
    "collapsed": true
   },
   "outputs": [],
   "source": [
    "DATA_FOLDER = folder_path['local']\n",
    "\n",
    "train    = pd.read_csv(os.path.join(DATA_FOLDER, 'sales_train.csv.gz'))\n",
    "items           = pd.read_csv(os.path.join(DATA_FOLDER, 'items.csv'))\n",
    "item_categories = pd.read_csv(os.path.join(DATA_FOLDER, 'item_categories.csv'))\n",
    "shops           = pd.read_csv(os.path.join(DATA_FOLDER, 'shops.csv'))\n",
    "test = pd.read_csv(os.path.join(DATA_FOLDER, 'test.csv.gz'))\n",
    "test['date_block_num'] = 34\n",
    "test['item_cnt_day'] =  0\n",
    "cols = ['date_block_num','shop_id','item_id','item_cnt_day']\n",
    "sales = pd.concat([train[cols],test[cols]])\n"
   ]
  },
  {
   "cell_type": "markdown",
   "metadata": {
    "collapsed": true
   },
   "source": [
    "# Part I - Data preprocessing and Feature extraction\n",
    "###  We are given daily sales data  for each shop and each item carried by the store. \n",
    "### Our task is to predict monthly sales for each shop item combination.\n",
    "### So we first aggredate data to get a feature matrix and then for each month satrting with the thirteenth \n",
    "### we append data for the previous twelve months"
   ]
  },
  {
   "cell_type": "code",
   "execution_count": 6,
   "metadata": {
    "collapsed": true
   },
   "outputs": [],
   "source": [
    "# Create \"grid\" with columns\n",
    "index_cols = ['shop_id', 'item_id', 'date_block_num']\n",
    "\n",
    "# For every month we create a grid from all shops/items combinations from that month\n",
    "grid = [] \n",
    "for block_num in sales['date_block_num'].unique():\n",
    "    cur_shops = sales.loc[sales['date_block_num'] == block_num, 'shop_id'].unique()\n",
    "    cur_items = sales.loc[sales['date_block_num'] == block_num, 'item_id'].unique()\n",
    "    grid.append(np.array(list(product(*[cur_shops, cur_items, [block_num]])),dtype='int32'))\n",
    "\n",
    "# Turn the grid into a dataframe\n",
    "grid = pd.DataFrame(np.vstack(grid), columns = index_cols,dtype=np.int32)\n",
    "\n",
    "# Groupby data to get shop-item-month aggregates\n",
    "gb = sales.groupby(index_cols,as_index=False).agg({\n",
    "    'item_cnt_day':{'target':'sum',\n",
    "                    'target_mean':'mean', 'target_med':'median', 'target_max':'max',\n",
    "                   'target_min':'min'}})\n",
    "# Fix column names\n",
    "gb.columns = [col[0] if col[-1]=='' else col[-1] for col in gb.columns.values] \n",
    "# Join it to the grid\n",
    "all_data = pd.merge(grid, gb, how='left', on=index_cols).fillna(0)\n",
    "\n",
    "# Same as above but with shop-month aggregates\n",
    "gb = sales.groupby(['shop_id', 'date_block_num'],as_index=False).agg(\n",
    "    {'item_cnt_day':{'target_shop':'sum'}})\n",
    "                    #'target_shop_mean':'mean', 'target_shop_median':'median',\n",
    "                    #'target_shop_max':'max', 'target_shop_min':'min'}})\n",
    "gb.columns = [col[0] if col[-1]=='' else col[-1] for col in gb.columns.values]\n",
    "all_data = pd.merge(all_data, gb, how='left', on=['shop_id', 'date_block_num']).fillna(0)\n",
    "\n",
    "# Same as above but with item-month aggregates\n",
    "gb = sales.groupby(['item_id', 'date_block_num'],as_index=False).agg(\n",
    "    {'item_cnt_day':{'target_item':'sum',\n",
    "                    'target_item_mean':'mean', 'target_item_median':'median',\n",
    "                    'target_item_max':'max', 'target_item_min':'min'}})\n",
    "gb.columns = [col[0] if col[-1] == '' else col[-1] for col in gb.columns.values]\n",
    "all_data = pd.merge(all_data, gb, how='left', on=['item_id', 'date_block_num']).fillna(0)\n",
    "\n",
    "# Downcast dtypes from 64 to 32 bit to save memory\n",
    "all_data = downcast_dtypes(all_data)\n",
    "del grid, gb \n",
    "gc.collect();"
   ]
  },
  {
   "cell_type": "code",
   "execution_count": 7,
   "metadata": {},
   "outputs": [
    {
     "name": "stdout",
     "output_type": "stream",
     "text": [
      "[1, 2, 3, 4, 5, 6, 7, 8, 9, 10, 11, 12]\n"
     ]
    },
    {
     "name": "stderr",
     "output_type": "stream",
     "text": [
      "Widget Javascript not detected.  It may not be installed or enabled properly.\n"
     ]
    },
    {
     "data": {
      "application/vnd.jupyter.widget-view+json": {
       "model_id": "f06dda9d6e4f429dac6081a59d4c479a"
      }
     },
     "metadata": {},
     "output_type": "display_data"
    },
    {
     "name": "stdout",
     "output_type": "stream",
     "text": [
      "\n"
     ]
    }
   ],
   "source": [
    "# List of columns that we will use to create lags\n",
    "cols_to_rename = list(all_data.columns.difference(index_cols)) \n",
    "\n",
    "max_shift = 12\n",
    "shift_range = list(range(1, max_shift+1))\n",
    "print(shift_range)\n",
    "\n",
    "\n",
    "for month_shift in tqdm_notebook(shift_range):\n",
    "    train_shift = all_data[index_cols + cols_to_rename].copy()\n",
    "    \n",
    "    train_shift['date_block_num'] = train_shift['date_block_num'] + month_shift\n",
    "    \n",
    "    foo = lambda x: '{}_lag_{}'.format(x, month_shift) if x in cols_to_rename else x\n",
    "    train_shift = train_shift.rename(columns=foo)\n",
    "\n",
    "    all_data = pd.merge(all_data, train_shift, on=index_cols, how='left').fillna(0)\n",
    "\n",
    "del train_shift\n",
    "\n",
    "# Don't use old data from year 2013\n",
    "all_data = all_data[all_data['date_block_num'] >= max_shift] \n",
    "\n",
    "# List of all lagged features\n",
    "fit_cols = [col for col in all_data.columns if col[-1] in [str(item) for item in shift_range]] \n",
    "# We will drop these at fitting stage\n",
    "to_drop_cols = list(set(list(all_data.columns)) - (set(fit_cols)|set(index_cols))) + ['date_block_num'] \n",
    "\n",
    "# Category for each item\n",
    "item_category_mapping = items[['item_id','item_category_id']].drop_duplicates()\n",
    "\n",
    "all_data = pd.merge(all_data, item_category_mapping, how='left', on='item_id')\n",
    "all_data = downcast_dtypes(all_data)\n",
    "gc.collect();"
   ]
  },
  {
   "cell_type": "markdown",
   "metadata": {},
   "source": [
    "## Exploratory Data Analysis (EDA)\n",
    "### Here we plot the time series data for select shop-item combination"
   ]
  },
  {
   "cell_type": "code",
   "execution_count": 8,
   "metadata": {},
   "outputs": [
    {
     "data": {
      "text/plain": [
       "['target_lag_1',\n",
       " 'target_lag_2',\n",
       " 'target_lag_3',\n",
       " 'target_lag_4',\n",
       " 'target_lag_5',\n",
       " 'target_lag_6',\n",
       " 'target_lag_7',\n",
       " 'target_lag_8',\n",
       " 'target_lag_9',\n",
       " 'target_lag_10',\n",
       " 'target_lag_11',\n",
       " 'target_lag_12']"
      ]
     },
     "execution_count": 8,
     "metadata": {},
     "output_type": "execute_result"
    }
   ],
   "source": [
    "r = re.compile(\"target_lag*\")\n",
    "lag_cols =list(filter(r.match,all_data.columns))\n",
    "lag_cols"
   ]
  },
  {
   "cell_type": "code",
   "execution_count": 9,
   "metadata": {},
   "outputs": [
    {
     "data": {
      "text/plain": [
       "[<matplotlib.lines.Line2D at 0x7f5735911828>]"
      ]
     },
     "execution_count": 9,
     "metadata": {},
     "output_type": "execute_result"
    },
    {
     "data": {
      "image/png": "[encoded data removed]",
      "text/plain": [
       "<matplotlib.figure.Figure at 0x7f57372945c0>"
      ]
     },
     "metadata": {},
     "output_type": "display_data"
    }
   ],
   "source": [
    "shop_id = 28\n",
    "shop_data = all_data.loc[all_data['shop_id'] == shop_id, lag_cols].values\n",
    "plt.plot(range(-len(lag_cols), 0), shop_data[np.random.randint(shop_data.shape[0])][: :-1])"
   ]
  },
  {
   "cell_type": "markdown",
   "metadata": {},
   "source": [
    "## Training\n",
    "### In order to expedite experimentation  we will restrict training to shops 26, 27, and 28\n",
    "### We use two types of models:\n",
    "- **LightGBM**\n",
    "- **Random Forest**"
   ]
  },
  {
   "cell_type": "code",
   "execution_count": 10,
   "metadata": {},
   "outputs": [
    {
     "data": {
      "text/plain": [
       "array([28, 27, 26])"
      ]
     },
     "execution_count": 10,
     "metadata": {},
     "output_type": "execute_result"
    }
   ],
   "source": [
    "mini_data = all_data[all_data['shop_id'].isin([26,27,28])]\n",
    "mini_data['shop_id'].unique()"
   ]
  },
  {
   "cell_type": "code",
   "execution_count": 11,
   "metadata": {},
   "outputs": [
    {
     "data": {
      "text/plain": [
       "['target_item_min_lag_10',\n",
       " 'target_max',\n",
       " 'target_max_lag_10',\n",
       " 'target_shop_lag_10',\n",
       " 'target_mean_lag_10',\n",
       " 'target_med_lag_10',\n",
       " 'target_item_mean',\n",
       " 'target_item_max',\n",
       " 'target_item_max_lag_10',\n",
       " 'target_item',\n",
       " 'target',\n",
       " 'target_item_mean_lag_10',\n",
       " 'target_item_min',\n",
       " 'target_mean',\n",
       " 'target_min',\n",
       " 'target_item_median_lag_10',\n",
       " 'target_shop',\n",
       " 'target_min_lag_10',\n",
       " 'target_med',\n",
       " 'target_item_lag_10',\n",
       " 'target_item_median',\n",
       " 'target_lag_10',\n",
       " 'date_block_num',\n",
       " 'item_id']"
      ]
     },
     "execution_count": 11,
     "metadata": {},
     "output_type": "execute_result"
    }
   ],
   "source": [
    "## The following cols will be droped during training\n",
    "## There are more 17,000 unique item_ids. So we will drop this when training our models\n",
    "len(mini_data['item_id'].unique())\n",
    "to_drop_cols.append('item_id')\n",
    "to_drop_cols"
   ]
  },
  {
   "cell_type": "markdown",
   "metadata": {},
   "source": [
    "### Train test split \n",
    "- Train set will consist of months 12 -32\n",
    "- Validation set: mnoth 33\n",
    "- Test set: month 34"
   ]
  },
  {
   "cell_type": "code",
   "execution_count": 12,
   "metadata": {},
   "outputs": [
    {
     "name": "stdout",
     "output_type": "stream",
     "text": [
      "Test `date_block_num` is 34\n"
     ]
    }
   ],
   "source": [
    "# Save `date_block_num`, as we can't use them as features, but will need them to split the dataset into parts \n",
    "dates = mini_data['date_block_num']\n",
    "\n",
    "last_block = dates.max()\n",
    "print('Test `date_block_num` is %d' % last_block)"
   ]
  },
  {
   "cell_type": "code",
   "execution_count": 13,
   "metadata": {
    "collapsed": true
   },
   "outputs": [],
   "source": [
    "dates_train = dates[dates <  last_block]\n",
    "dates_test  = dates[dates == last_block]\n",
    "\n",
    "X_train = mini_data.loc[dates <  last_block-1].drop(to_drop_cols, axis=1)\n",
    "X_val = mini_data.loc[dates ==  last_block-1].drop(to_drop_cols, axis=1)\n",
    "\n",
    "y_train = mini_data.loc[dates <  last_block-1, 'target'].values\n",
    "y_val =  mini_data.loc[dates == last_block-1, 'target'].values\n",
    "\n",
    "## clip target values to [0, 20]\n",
    "y_train =np.clip(y_train, 0, 20)\n",
    "y_val =  np.clip(y_val, 0,20)"
   ]
  },
  {
   "cell_type": "markdown",
   "metadata": {},
   "source": [
    "### Variable importance \n",
    "### We use  a random forest model to obtain variable importances"
   ]
  },
  {
   "cell_type": "code",
   "execution_count": 14,
   "metadata": {
    "collapsed": true
   },
   "outputs": [],
   "source": [
    "# Random Forest model\n",
    "rf = RandomForestRegressor(max_depth=5)\n",
    "rf.fit(X_train, y_train)\n",
    "pred_rf = rf.predict(X_val)\n",
    "pred_rf = np.clip(pred_rf, 0, 20)"
   ]
  },
  {
   "cell_type": "code",
   "execution_count": 15,
   "metadata": {},
   "outputs": [
    {
     "name": "stdout",
     "output_type": "stream",
     "text": [
      "Test RMSE for RF is 1.071116\n"
     ]
    }
   ],
   "source": [
    "print('Test RMSE for RF is %f' % np.sqrt(mean_squared_error(y_val, pred_rf)))"
   ]
  },
  {
   "cell_type": "code",
   "execution_count": 16,
   "metadata": {},
   "outputs": [
    {
     "data": {
      "text/plain": [
       "[(0.76329999999999998, 'target_lag_1'),\n",
       " (0.13880000000000001, 'target_item_lag_1'),\n",
       " (0.016199999999999999, 'item_category_id'),\n",
       " (0.015299999999999999, 'shop_id'),\n",
       " (0.011299999999999999, 'target_shop_lag_1'),\n",
       " (0.0080000000000000002, 'target_lag_5'),\n",
       " (0.0058999999999999999, 'target_lag_3'),\n",
       " (0.0044999999999999997, 'target_item_lag_3'),\n",
       " (0.0044000000000000003, 'target_shop_lag_6'),\n",
       " (0.0030999999999999999, 'target_item_mean_lag_1'),\n",
       " (0.0025000000000000001, 'target_lag_4'),\n",
       " (0.0020999999999999999, 'target_med_lag_1'),\n",
       " (0.0020999999999999999, 'target_item_mean_lag_3'),\n",
       " (0.002, 'target_shop_lag_4'),\n",
       " (0.002, 'target_lag_2'),\n",
       " (0.0018, 'target_shop_lag_12'),\n",
       " (0.0015, 'target_shop_lag_3'),\n",
       " (0.0014, 'target_item_min_lag_2'),\n",
       " (0.0012999999999999999, 'target_item_lag_4'),\n",
       " (0.0011000000000000001, 'target_max_lag_1')]"
      ]
     },
     "execution_count": 16,
     "metadata": {},
     "output_type": "execute_result"
    }
   ],
   "source": [
    "importances = sorted(zip(list(map(lambda x: round(x,4), \n",
    "                                  rf.feature_importances_)),list(X_train)), reverse=True)[:20]\n",
    "importances"
   ]
  },
  {
   "cell_type": "code",
   "execution_count": 17,
   "metadata": {},
   "outputs": [
    {
     "data": {
      "image/png": "[encoded data removed]",
      "text/plain": [
       "<matplotlib.figure.Figure at 0x7f5737294160>"
      ]
     },
     "metadata": {},
     "output_type": "display_data"
    }
   ],
   "source": [
    "fig, ax = plt.subplots(figsize=(10,5))\n",
    "ax.barh(range(len(importances)), [x[0] for x in importances], align='center')\n",
    "ax.set_yticks(range(len(importances)))\n",
    "ax.set_yticklabels([x[1] for x in importances])\n",
    "ax.set_xlabel('Variable Importances')\n",
    "plt.show()"
   ]
  },
  {
   "cell_type": "markdown",
   "metadata": {},
   "source": [
    "### The table above shows that the most important lag times are 1-5 and 12. So in our final training we will retain only these ones"
   ]
  },
  {
   "cell_type": "markdown",
   "metadata": {},
   "source": [
    "## Parameter Tuning"
   ]
  },
  {
   "cell_type": "code",
   "execution_count": null,
   "metadata": {
    "collapsed": true
   },
   "outputs": [],
   "source": [
    "errors = []\n",
    "min_depth = [3, 5,10]\n",
    "n_estimators = [10, 15]\n",
    "for d in min_depth:\n",
    "    for num in n_estimators:\n",
    "        print('Training with depth {} and estimators {}'.format(d, num))\n",
    "        rf = RandomForestRegressor(max_depth=d, n_estimators=num)\n",
    "        rf.fit(X_train, y_train)\n",
    "        pred_rf = rf.predict(X_val)\n",
    "        pred_rf = np.clip(pred_rf, 0, 20)\n",
    "        rmse = np.sqrt(mean_squared_error(y_val, pred_rf))\n",
    "        errors.append({'depth':d, 'n_estimators': num, 'rmse':rmse})"
   ]
  },
  {
   "cell_type": "code",
   "execution_count": null,
   "metadata": {
    "collapsed": true
   },
   "outputs": [],
   "source": [
    "print(errors)\n",
    "best_ind = np.argmin([d['rmse'] for d in errors])\n",
    "best_params = errors[best_ind]\n",
    "print('Best parameters: ', errors[best_ind])"
   ]
  },
  {
   "cell_type": "markdown",
   "metadata": {},
   "source": [
    "# Part II\n",
    "## We train a LightGBM model and a Random Forest model using best parameters found above. As seen from variable importances we also limit lag times to 1,2,3,4,5, and 12."
   ]
  },
  {
   "cell_type": "code",
   "execution_count": 18,
   "metadata": {
    "collapsed": true
   },
   "outputs": [],
   "source": [
    "# Create \"grid\" with columns\n",
    "index_cols = ['shop_id', 'item_id', 'date_block_num']\n",
    "\n",
    "# For every month we create a grid from all shops/items combinations from that month\n",
    "grid = [] \n",
    "for block_num in sales['date_block_num'].unique():\n",
    "    cur_shops = sales.loc[sales['date_block_num'] == block_num, 'shop_id'].unique()\n",
    "    cur_items = sales.loc[sales['date_block_num'] == block_num, 'item_id'].unique()\n",
    "    grid.append(np.array(list(product(*[cur_shops, cur_items, [block_num]])),dtype='int32'))\n",
    "\n",
    "# Turn the grid into a dataframe\n",
    "grid = pd.DataFrame(np.vstack(grid), columns = index_cols,dtype=np.int32)\n",
    "\n",
    "# Groupby data to get shop-item-month aggregates\n",
    "gb = sales.groupby(index_cols,as_index=False).agg({\n",
    "    'item_cnt_day':{'target':'sum',\n",
    "                    'target_mean':'mean', 'target_med':'median', 'target_max':'max',\n",
    "                   'target_min':'min'}})\n",
    "# Fix column names\n",
    "gb.columns = [col[0] if col[-1]=='' else col[-1] for col in gb.columns.values] \n",
    "# Join it to the grid\n",
    "all_data = pd.merge(grid, gb, how='left', on=index_cols).fillna(0)\n",
    "\n",
    "# Same as above but with shop-month aggregates\n",
    "gb = sales.groupby(['shop_id', 'date_block_num'],as_index=False).agg(\n",
    "    {'item_cnt_day':{'target_shop':'sum'}})\n",
    "                    #'target_shop_mean':'mean', 'target_shop_median':'median',\n",
    "                    #'target_shop_max':'max', 'target_shop_min':'min'}})\n",
    "gb.columns = [col[0] if col[-1]=='' else col[-1] for col in gb.columns.values]\n",
    "all_data = pd.merge(all_data, gb, how='left', on=['shop_id', 'date_block_num']).fillna(0)\n",
    "\n",
    "# Same as above but with item-month aggregates\n",
    "gb = sales.groupby(['item_id', 'date_block_num'],as_index=False).agg(\n",
    "    {'item_cnt_day':{'target_item':'sum',\n",
    "                    'target_item_mean':'mean', 'target_item_median':'median',\n",
    "                    'target_item_max':'max', 'target_item_min':'min'}})\n",
    "gb.columns = [col[0] if col[-1] == '' else col[-1] for col in gb.columns.values]\n",
    "all_data = pd.merge(all_data, gb, how='left', on=['item_id', 'date_block_num']).fillna(0)\n",
    "\n",
    "# Downcast dtypes from 64 to 32 bit to save memory\n",
    "all_data = downcast_dtypes(all_data)\n",
    "del grid, gb \n",
    "gc.collect();"
   ]
  },
  {
   "cell_type": "code",
   "execution_count": 19,
   "metadata": {},
   "outputs": [
    {
     "name": "stderr",
     "output_type": "stream",
     "text": [
      "Widget Javascript not detected.  It may not be installed or enabled properly.\n"
     ]
    },
    {
     "data": {
      "application/vnd.jupyter.widget-view+json": {
       "model_id": "e69cf616f9d44476ba1b7c1d9eb76b88"
      }
     },
     "metadata": {},
     "output_type": "display_data"
    },
    {
     "name": "stdout",
     "output_type": "stream",
     "text": [
      "\n"
     ]
    }
   ],
   "source": [
    "# List of columns that we will use to create lags\n",
    "cols_to_rename = list(all_data.columns.difference(index_cols)) \n",
    "\n",
    "max_shift = 12\n",
    "shift_range = [1,2,3,4,5,12]\n",
    "\n",
    "for month_shift in tqdm_notebook(shift_range):\n",
    "    train_shift = all_data[index_cols + cols_to_rename].copy()\n",
    "    \n",
    "    train_shift['date_block_num'] = train_shift['date_block_num'] + month_shift\n",
    "    \n",
    "    foo = lambda x: '{}_lag_{}'.format(x, month_shift) if x in cols_to_rename else x\n",
    "    train_shift = train_shift.rename(columns=foo)\n",
    "\n",
    "    all_data = pd.merge(all_data, train_shift, on=index_cols, how='left').fillna(0)\n",
    "\n",
    "del train_shift\n",
    "\n",
    "# Don't use old data from year 2013\n",
    "all_data = all_data[all_data['date_block_num'] >= max_shift] \n",
    "\n",
    "# List of all lagged features\n",
    "fit_cols = [col for col in all_data.columns if col[-1] in [str(item) for item in shift_range]] \n",
    "# We will drop these at fitting stage\n",
    "to_drop_cols = list(set(list(all_data.columns)) - (set(fit_cols)|set(index_cols))) + ['date_block_num'] \n",
    "\n",
    "# Category for each item\n",
    "item_category_mapping = items[['item_id','item_category_id']].drop_duplicates()\n",
    "\n",
    "all_data = pd.merge(all_data, item_category_mapping, how='left', on='item_id')\n",
    "all_data = downcast_dtypes(all_data)\n",
    "gc.collect();"
   ]
  },
  {
   "cell_type": "code",
   "execution_count": 20,
   "metadata": {},
   "outputs": [
    {
     "data": {
      "text/plain": [
       "['target_item',\n",
       " 'target_max',\n",
       " 'target',\n",
       " 'target_med',\n",
       " 'target_item_min',\n",
       " 'target_item_mean',\n",
       " 'target_shop',\n",
       " 'target_mean',\n",
       " 'target_item_max',\n",
       " 'target_min',\n",
       " 'target_item_median',\n",
       " 'date_block_num',\n",
       " 'item_id']"
      ]
     },
     "execution_count": 20,
     "metadata": {},
     "output_type": "execute_result"
    }
   ],
   "source": [
    "to_drop_cols.append('item_id')\n",
    "to_drop_cols"
   ]
  },
  {
   "cell_type": "code",
   "execution_count": 21,
   "metadata": {},
   "outputs": [
    {
     "name": "stdout",
     "output_type": "stream",
     "text": [
      "Test `date_block_num` is 34\n"
     ]
    }
   ],
   "source": [
    "# Save `date_block_num`, as we can't use them as features, but will need them to split the dataset into parts \n",
    "dates = all_data['date_block_num']\n",
    "\n",
    "last_block = dates.max()\n",
    "print('Test `date_block_num` is %d' % last_block)"
   ]
  },
  {
   "cell_type": "code",
   "execution_count": 22,
   "metadata": {
    "collapsed": true
   },
   "outputs": [],
   "source": [
    "dates_train = dates[dates <  last_block]\n",
    "dates_test  = dates[dates == last_block]\n",
    "\n",
    "X_train = all_data.loc[dates <  last_block-1].drop(to_drop_cols, axis=1)\n",
    "\n",
    "X_val = all_data.loc[dates ==  last_block-1].drop(to_drop_cols, axis=1)\n",
    "X_test =  all_data.loc[dates == last_block].drop(to_drop_cols, axis=1)\n",
    "\n",
    "y_train = all_data.loc[dates <  last_block-1, 'target'].values\n",
    "y_val =  all_data.loc[dates == last_block-1, 'target'].values\n",
    "\n",
    "## clip target values to [0, 20]\n",
    "y_train =np.clip(y_train, 0, 20)\n",
    "y_val =  np.clip(y_val, 0,20)"
   ]
  },
  {
   "cell_type": "code",
   "execution_count": 23,
   "metadata": {
    "collapsed": true
   },
   "outputs": [],
   "source": [
    "## Train Models\n",
    "\n",
    "# GBM model\n",
    "#print('Training LightGBM model')\n",
    "#model = lgb.train(lgb_params, lgb.Dataset(X_train, label=y_train), 100)\n",
    "#pred_val_lgb = model.predict(X_val)\n",
    "#pred_val_lgb = np.clip(pred_val_lgb, 0, 20)\n",
    "\n",
    "# Random Forest model\n",
    "#print('Training Random Forest model')\n",
    "#rf.fit(X_train, y_train)\n",
    "#pred_val_rf = rf.predict(X_val)\n",
    "#pred_val_rf = np.clip(pred_val_rf, 0, 20)\n",
    "\n",
    "# Linear Regression\n",
    "#print('Training linear regression model')\n",
    "#lr = LinearRegression()\n",
    "#lr.fit(X_train.values, y_train)\n",
    "#pred_val_lr = lr.predict(X_val)\n",
    "#pred_val_lr = np.clip(pred_val_lr, 0, 20)"
   ]
  },
  {
   "cell_type": "code",
   "execution_count": 24,
   "metadata": {
    "collapsed": true
   },
   "outputs": [],
   "source": [
    "#val_data = pd.DataFrame({'pred_lgb':pred_val_lgb, 'pred_rf':pred_val_rf,'pred_lr':pred_val_lr,  'y_val': y_val})\n",
    "#val_data.to_csv('./val_data', index=False)"
   ]
  },
  {
   "cell_type": "markdown",
   "metadata": {},
   "source": [
    "### We load previously calculated predictions for the validation set"
   ]
  },
  {
   "cell_type": "code",
   "execution_count": 25,
   "metadata": {
    "collapsed": true
   },
   "outputs": [],
   "source": [
    "# load validation data\n",
    "val_data = pd.read_csv('./val_data')"
   ]
  },
  {
   "cell_type": "code",
   "execution_count": 26,
   "metadata": {},
   "outputs": [
    {
     "data": {
      "text/html": [
       "<div>\n",
       "<table border=\"1\" class=\"dataframe\">\n",
       "  <thead>\n",
       "    <tr style=\"text-align: right;\">\n",
       "      <th></th>\n",
       "      <th>pred_lgb</th>\n",
       "      <th>pred_lr</th>\n",
       "      <th>pred_rf</th>\n",
       "      <th>y_val</th>\n",
       "    </tr>\n",
       "  </thead>\n",
       "  <tbody>\n",
       "    <tr>\n",
       "      <th>0</th>\n",
       "      <td>0.055752</td>\n",
       "      <td>0.125921</td>\n",
       "      <td>0.029788</td>\n",
       "      <td>1.0</td>\n",
       "    </tr>\n",
       "    <tr>\n",
       "      <th>1</th>\n",
       "      <td>0.801977</td>\n",
       "      <td>0.225960</td>\n",
       "      <td>0.762917</td>\n",
       "      <td>1.0</td>\n",
       "    </tr>\n",
       "    <tr>\n",
       "      <th>2</th>\n",
       "      <td>0.555554</td>\n",
       "      <td>0.467386</td>\n",
       "      <td>0.508839</td>\n",
       "      <td>2.0</td>\n",
       "    </tr>\n",
       "    <tr>\n",
       "      <th>3</th>\n",
       "      <td>0.126933</td>\n",
       "      <td>0.132144</td>\n",
       "      <td>0.106141</td>\n",
       "      <td>1.0</td>\n",
       "    </tr>\n",
       "    <tr>\n",
       "      <th>4</th>\n",
       "      <td>0.614055</td>\n",
       "      <td>0.945223</td>\n",
       "      <td>0.838084</td>\n",
       "      <td>1.0</td>\n",
       "    </tr>\n",
       "  </tbody>\n",
       "</table>\n",
       "</div>"
      ],
      "text/plain": [
       "   pred_lgb   pred_lr   pred_rf  y_val\n",
       "0  0.055752  0.125921  0.029788    1.0\n",
       "1  0.801977  0.225960  0.762917    1.0\n",
       "2  0.555554  0.467386  0.508839    2.0\n",
       "3  0.126933  0.132144  0.106141    1.0\n",
       "4  0.614055  0.945223  0.838084    1.0"
      ]
     },
     "execution_count": 26,
     "metadata": {},
     "output_type": "execute_result"
    }
   ],
   "source": [
    "val_data.head()"
   ]
  },
  {
   "cell_type": "code",
   "execution_count": 27,
   "metadata": {
    "collapsed": true
   },
   "outputs": [],
   "source": [
    "pred_val_lgb = val_data['pred_lgb']\n",
    "pred_val_rf = val_data['pred_rf']\n",
    "pred_val_lr = val_data['pred_lr']\n",
    "y_val = val_data['y_val']"
   ]
  },
  {
   "cell_type": "code",
   "execution_count": 28,
   "metadata": {},
   "outputs": [
    {
     "name": "stdout",
     "output_type": "stream",
     "text": [
      "Validation RMSE for LightGBM is 0.918010\n",
      "Validation RMSE for RF is 0.962971\n",
      "Validation RMSE for lr is 1.024326\n"
     ]
    }
   ],
   "source": [
    "print('Validation RMSE for LightGBM is %f' % np.sqrt(mean_squared_error(y_val, pred_val_lgb)))\n",
    "print('Validation RMSE for RF is %f' % np.sqrt(mean_squared_error(y_val, pred_val_rf)))\n",
    "print('Validation RMSE for lr is %f' % np.sqrt(mean_squared_error(y_val, pred_val_lr)))"
   ]
  },
  {
   "cell_type": "markdown",
   "metadata": {},
   "source": [
    "## Ensembling: Simplex method\n",
    "### We find the best choice of parameters a1, a2, a3 that gives the best rmse"
   ]
  },
  {
   "cell_type": "code",
   "execution_count": 29,
   "metadata": {
    "collapsed": true
   },
   "outputs": [],
   "source": [
    "num_iter=10000\n",
    "err_mat = np.zeros((num_iter, 4))\n",
    "for i in range(num_iter):\n",
    "    a1,a2 = np.random.uniform(0,1,size=2)\n",
    "    a3=1-a1-a2\n",
    "    preds = a1*pred_val_lgb + a2*pred_val_rf + a3*pred_val_lr\n",
    "    score = np.sqrt(mean_squared_error(y_val, preds))\n",
    "    err_mat[i] = [a1,a2,a3,score]\n",
    "\n",
    "df=pd.DataFrame(err_mat)\n",
    "df.columns=['a1','a2','a3','rmse']    "
   ]
  },
  {
   "cell_type": "code",
   "execution_count": 30,
   "metadata": {},
   "outputs": [
    {
     "data": {
      "text/plain": [
       "0.9177980497989251"
      ]
     },
     "execution_count": 30,
     "metadata": {},
     "output_type": "execute_result"
    }
   ],
   "source": [
    "df.head()\n",
    "df['rmse'].min()"
   ]
  },
  {
   "cell_type": "code",
   "execution_count": 31,
   "metadata": {},
   "outputs": [
    {
     "data": {
      "text/plain": [
       "array([ 0.95254237,  0.00189372,  0.0455639 ])"
      ]
     },
     "execution_count": 31,
     "metadata": {},
     "output_type": "execute_result"
    }
   ],
   "source": [
    "alpha = df.loc[df['rmse'].idxmin()][:3].values\n",
    "alpha"
   ]
  },
  {
   "cell_type": "markdown",
   "metadata": {},
   "source": [
    "# Part II: Submission"
   ]
  },
  {
   "cell_type": "code",
   "execution_count": 32,
   "metadata": {},
   "outputs": [
    {
     "name": "stdout",
     "output_type": "stream",
     "text": [
      "Test `date_block_num` is 34\n"
     ]
    }
   ],
   "source": [
    "# Now retrain on entire train set\n",
    "dates = all_data['date_block_num']\n",
    "\n",
    "last_block = dates.max()\n",
    "print('Test `date_block_num` is %d' % last_block)\n",
    "X_train = all_data.loc[dates <  last_block].drop(to_drop_cols, axis=1)\n",
    "y_train = all_data.loc[dates <  last_block, 'target'].values\n",
    "## clip target values to [0, 20]\n",
    "y_train =np.clip(y_train, 0, 20)\n",
    "\n",
    "X_test =  all_data.loc[dates == last_block].drop(to_drop_cols, axis=1)"
   ]
  },
  {
   "cell_type": "code",
   "execution_count": 33,
   "metadata": {
    "collapsed": true
   },
   "outputs": [],
   "source": [
    "# GBM model\n",
    "#print('Training LightGBM model')\n",
    "#model = lgb.train(lgb_params, lgb.Dataset(X_train, label=y_train), 100)\n",
    "\n",
    "# Random Forest model\n",
    "#print('Training Random Forest model')\n",
    "#rf.fit(X_train, y_train)\n",
    "\n",
    "# Linear Regression\n",
    "#print('Training linear regression model')\n",
    "#lr = LinearRegression()\n",
    "#lr.fit(X_train.values, y_train)\n"
   ]
  },
  {
   "cell_type": "code",
   "execution_count": 34,
   "metadata": {
    "collapsed": true
   },
   "outputs": [],
   "source": [
    "# Serialize models\n",
    "#pickle.dump(model, open('model_lgb.pkl', 'wb'))\n",
    "#pickle.dump(rf, open('model_rf.pkl', 'wb'))\n",
    "#pickle.dump(lr, open('model_lr.pkl', 'wb'))"
   ]
  },
  {
   "cell_type": "markdown",
   "metadata": {},
   "source": [
    "### We load pre-trained models and predict on the test set for submission"
   ]
  },
  {
   "cell_type": "code",
   "execution_count": 35,
   "metadata": {
    "collapsed": true
   },
   "outputs": [],
   "source": [
    "## load pickled models\n",
    "model_lgb = pickle.load(open('model_lgb.pkl','rb'))\n",
    "model_rf = pickle.load(open('model_rf.pkl','rb'))\n",
    "model_lr = pickle.load(open('model_lr.pkl','rb'))"
   ]
  },
  {
   "cell_type": "code",
   "execution_count": 36,
   "metadata": {
    "collapsed": true
   },
   "outputs": [],
   "source": [
    "pred_test_lgb = model_lgb.predict(X_test)\n",
    "pred_test_lgb = np.clip(pred_test_lgb, 0, 20)\n",
    "\n",
    "pred_test_rf = model_rf.predict(X_test)\n",
    "pred_test_rf = np.clip(pred_test_rf, 0, 20)\n",
    "\n",
    "pred_test_lr = model_lr.predict(X_test)\n",
    "pred_test_lr = np.clip(pred_test_lr, 0, 20)"
   ]
  },
  {
   "cell_type": "code",
   "execution_count": 37,
   "metadata": {
    "collapsed": true
   },
   "outputs": [],
   "source": [
    "# Serialize models\n",
    "#pickle.dump(model, open('model_lgb.pkl', 'wb'))\n",
    "#pickle.dump(rf, open('model_rf.pkl', 'wb'))\n",
    "#pickle.dump(lr, open('model_lr.pkl', 'wb'))"
   ]
  },
  {
   "cell_type": "code",
   "execution_count": 38,
   "metadata": {
    "collapsed": true
   },
   "outputs": [],
   "source": [
    "pred_simplex = alpha[0]*pred_test_lgb + alpha[1]*pred_test_rf + alpha[2]*pred_test_lr"
   ]
  },
  {
   "cell_type": "code",
   "execution_count": 39,
   "metadata": {
    "collapsed": true
   },
   "outputs": [],
   "source": [
    "## prepare submission file\n",
    "submit_file = pd.read_csv('./sample_submission.csv.gz')\n",
    "submit_file.loc[ :, 'item_cnt_month']= pred_simplex"
   ]
  },
  {
   "cell_type": "code",
   "execution_count": 40,
   "metadata": {},
   "outputs": [
    {
     "data": {
      "text/html": [
       "<div>\n",
       "<table border=\"1\" class=\"dataframe\">\n",
       "  <thead>\n",
       "    <tr style=\"text-align: right;\">\n",
       "      <th></th>\n",
       "      <th>ID</th>\n",
       "      <th>item_cnt_month</th>\n",
       "    </tr>\n",
       "  </thead>\n",
       "  <tbody>\n",
       "    <tr>\n",
       "      <th>0</th>\n",
       "      <td>0</td>\n",
       "      <td>0.401979</td>\n",
       "    </tr>\n",
       "    <tr>\n",
       "      <th>1</th>\n",
       "      <td>1</td>\n",
       "      <td>0.224210</td>\n",
       "    </tr>\n",
       "    <tr>\n",
       "      <th>2</th>\n",
       "      <td>2</td>\n",
       "      <td>0.768202</td>\n",
       "    </tr>\n",
       "    <tr>\n",
       "      <th>3</th>\n",
       "      <td>3</td>\n",
       "      <td>0.291382</td>\n",
       "    </tr>\n",
       "    <tr>\n",
       "      <th>4</th>\n",
       "      <td>4</td>\n",
       "      <td>3.683797</td>\n",
       "    </tr>\n",
       "  </tbody>\n",
       "</table>\n",
       "</div>"
      ],
      "text/plain": [
       "   ID  item_cnt_month\n",
       "0   0        0.401979\n",
       "1   1        0.224210\n",
       "2   2        0.768202\n",
       "3   3        0.291382\n",
       "4   4        3.683797"
      ]
     },
     "execution_count": 40,
     "metadata": {},
     "output_type": "execute_result"
    }
   ],
   "source": [
    "submit_file.head()"
   ]
  },
  {
   "cell_type": "code",
   "execution_count": 41,
   "metadata": {
    "collapsed": true
   },
   "outputs": [],
   "source": [
    "# save file\n",
    "submit_file.to_csv('./lgb_rf_lr_simplex_020118.csv', index=False)"
   ]
  },
  {
   "cell_type": "code",
   "execution_count": null,
   "metadata": {
    "collapsed": true
   },
   "outputs": [],
   "source": []
  }
 ],
 "metadata": {
  "kernelspec": {
   "display_name": "Python [conda env:py3k]",
   "language": "python",
   "name": "conda-env-py3k-py"
  },
  "language_info": {
   "codemirror_mode": {
    "name": "ipython",
    "version": 3
   },
   "file_extension": ".py",
   "mimetype": "text/x-python",
   "name": "python",
   "nbconvert_exporter": "python",
   "pygments_lexer": "ipython3",
   "version": "3.5.2"
  }
 },
 "nbformat": 4,
 "nbformat_minor": 2
}
