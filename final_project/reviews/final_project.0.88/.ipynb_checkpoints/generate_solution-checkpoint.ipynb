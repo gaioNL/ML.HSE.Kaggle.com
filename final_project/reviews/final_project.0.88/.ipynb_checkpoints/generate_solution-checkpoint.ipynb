{
 "cells": [
  {
   "cell_type": "markdown",
   "metadata": {},
   "source": [
    "# Predict future sales"
   ]
  },
  {
   "cell_type": "markdown",
   "metadata": {},
   "source": [
    "This is Run All notebook to generate ~0.88 solution."
   ]
  },
  {
   "cell_type": "markdown",
   "metadata": {},
   "source": [
    "Requirements:\n",
    "- numpy\n",
    "- scipy\n",
    "- matplotlib\n",
    "- sklearn\n",
    "- xgboost  (I used gpu version; with cpu version will be slightly different)\n",
    "- pandas"
   ]
  },
  {
   "cell_type": "code",
   "execution_count": null,
   "metadata": {
    "collapsed": true
   },
   "outputs": [],
   "source": [
    "# Choose your xgboost implementation, CPU or GPU\n",
    "# If you use GPU, remember that xgboost predictions on test may be incorrect sometimes\n",
    "# In that case, you should rerun cells with test predictions\n",
    "GPU = False"
   ]
  },
  {
   "cell_type": "code",
   "execution_count": null,
   "metadata": {
    "collapsed": true
   },
   "outputs": [],
   "source": [
    "if GPU:\n",
    "    TREE_METHOD = 'gpu_hist'\n",
    "else:\n",
    "    TREE_METHOD = 'auto'"
   ]
  },
  {
   "cell_type": "markdown",
   "metadata": {},
   "source": [
    "### Libraries and general functions"
   ]
  },
  {
   "cell_type": "code",
   "execution_count": 1,
   "metadata": {
    "collapsed": true
   },
   "outputs": [],
   "source": [
    "from scipy.sparse import save_npz, load_npz, hstack, vstack\n",
    "from matplotlib import pyplot as plt\n",
    "from matplotlib.pyplot import cm\n",
    "from sklearn.metrics import mean_squared_error\n",
    "from sklearn.linear_model import Ridge\n",
    "from sklearn.decomposition import TruncatedSVD\n",
    "from sklearn.feature_extraction.text import TfidfVectorizer\n",
    "from sklearn.preprocessing import OneHotEncoder, MaxAbsScaler\n",
    "from sklearn.model_selection import KFold\n",
    "from functools import partial\n",
    "import numpy as np\n",
    "import itertools as it\n",
    "import pandas as pd\n",
    "import xgboost as xgb\n",
    "import warnings\n",
    "import time\n",
    "import gc"
   ]
  },
  {
   "cell_type": "markdown",
   "metadata": {},
   "source": [
    "Filter some annoying pandas warnings."
   ]
  },
  {
   "cell_type": "code",
   "execution_count": 2,
   "metadata": {
    "collapsed": true
   },
   "outputs": [],
   "source": [
    "warnings.filterwarnings('ignore', category=DeprecationWarning)"
   ]
  },
  {
   "cell_type": "code",
   "execution_count": 3,
   "metadata": {
    "collapsed": true
   },
   "outputs": [],
   "source": [
    "def clip_month_counts(counts):\n",
    "    \"\"\"Results should be clipped to [0, 20] range\"\"\"\n",
    "    return np.clip(counts, 0, 20)"
   ]
  },
  {
   "cell_type": "code",
   "execution_count": 4,
   "metadata": {
    "collapsed": true
   },
   "outputs": [],
   "source": [
    "def save_submit_results(test_id, test_counts, save_name):\n",
    "    \"\"\"Perform output postprocessing and save results to .csv\"\"\"\n",
    "    # Last cliping\n",
    "    test_counts = clip_month_counts(test_counts)\n",
    "    \n",
    "    if not save_name.endswith('.csv'):\n",
    "        save_name += '.csv'\n",
    "    \n",
    "    results = pd.DataFrame(data={'ID': test_id.astype(int),\n",
    "                                 'item_cnt_month': test_counts.astype(float)})\n",
    "    results.to_csv(save_name, index=False)"
   ]
  },
  {
   "cell_type": "code",
   "execution_count": 5,
   "metadata": {
    "collapsed": true
   },
   "outputs": [],
   "source": [
    "items = pd.read_csv('items.csv', index_col='item_id')\n",
    "item_categories = pd.read_csv('item_categories.csv', index_col='item_category_id')\n",
    "shops = pd.read_csv('shops.csv', index_col='shop_id')\n",
    "\n",
    "sales_train = pd.read_csv('sales_train.csv.gz')\n",
    "sales_test = pd.read_csv('test.csv.gz', index_col='ID')"
   ]
  },
  {
   "cell_type": "markdown",
   "metadata": {},
   "source": [
    "## Feature extraction and generation"
   ]
  },
  {
   "cell_type": "markdown",
   "metadata": {},
   "source": [
    "#### Preprocessing from course notebooks"
   ]
  },
  {
   "cell_type": "code",
   "execution_count": 6,
   "metadata": {},
   "outputs": [
    {
     "name": "stderr",
     "output_type": "stream",
     "text": [
      "c:\\python36\\lib\\site-packages\\pandas\\core\\groupby.py:4291: FutureWarning: using a dict with renaming is deprecated and will be removed in a future version\n",
      "  return super(DataFrameGroupBy, self).aggregate(arg, *args, **kwargs)\n"
     ]
    }
   ],
   "source": [
    "# Aggregate the data to a monthly level and add rows for missing sales\n",
    "def preprocess_train():\n",
    "    index_cols = ['shop_id', 'item_id', 'date_block_num']\n",
    "\n",
    "    # For every month we create a grid from all shops/items combinations from that month\n",
    "    grid = [] \n",
    "    for block_num in sales_train['date_block_num'].unique():\n",
    "        cur_shops = sales_train[sales_train['date_block_num']==block_num]['shop_id'].unique()\n",
    "        cur_items = sales_train[sales_train['date_block_num']==block_num]['item_id'].unique()\n",
    "        grid.append(np.array(list(it.product(*[cur_shops, cur_items, [block_num]])),\n",
    "                             dtype='int32'))\n",
    "\n",
    "    # turn the grid into pandas dataframe\n",
    "    grid = pd.DataFrame(np.vstack(grid), columns=index_cols, dtype=np.int32)\n",
    "\n",
    "    # get aggregated values for (shop_id, item_id, month)\n",
    "    gb = sales_train.groupby(index_cols, as_index=False).agg({'item_cnt_day':{'target':'sum'}})\n",
    "\n",
    "    # fix column names\n",
    "    gb.columns = [col[0] if col[-1]=='' else col[-1] for col in gb.columns.values]\n",
    "    # join aggregated data to the grid\n",
    "    all_data = pd.merge(grid, gb, how='left', on=index_cols).fillna(0)\n",
    "    # sort the data\n",
    "#     all_data.sort_values(['date_block_num','shop_id','item_id'], inplace=True)  # NO SORTING TO DO MAGIC!\n",
    "    all_data.reset_index(inplace=True, drop=True)\n",
    "    all_data.target = all_data.target.astype(np.float32)\n",
    "    return all_data\n",
    "train = preprocess_train()"
   ]
  },
  {
   "cell_type": "markdown",
   "metadata": {},
   "source": [
    "#### Item category"
   ]
  },
  {
   "cell_type": "code",
   "execution_count": 7,
   "metadata": {
    "collapsed": true
   },
   "outputs": [],
   "source": [
    "FEATURE_ITEM_CATEGORY_ID = 'item_category_id'\n",
    "def create_item_category(tr, test, new_col=FEATURE_ITEM_CATEGORY_ID):\n",
    "    tr[new_col] = tr['item_id'].map(items[new_col]).astype(np.int32)\n",
    "    test[new_col] = test['item_id'].map(items[new_col]).astype(np.int32)\n",
    "create_item_category(train, sales_test)"
   ]
  },
  {
   "cell_type": "markdown",
   "metadata": {},
   "source": [
    "#### Lagged features"
   ]
  },
  {
   "cell_type": "code",
   "execution_count": 8,
   "metadata": {
    "collapsed": true
   },
   "outputs": [],
   "source": [
    "index_cols = ['shop_id', 'item_id', 'date_block_num']\n",
    "test_index_cols = ['shop_id', 'item_id']\n",
    "cols_to_rename = ['target']\n",
    "\n",
    "shift_range = [1, 2, 3, 6, 12]\n",
    "\n",
    "for month_shift in shift_range:\n",
    "    train_shift = train[index_cols + cols_to_rename].copy()\n",
    "\n",
    "    train_shift['date_block_num'] = train_shift['date_block_num'] + month_shift\n",
    "\n",
    "    foo = lambda x: '{}_lag_{}'.format(x, month_shift) if x in cols_to_rename else x\n",
    "    train_shift = train_shift.rename(columns=foo)\n",
    "\n",
    "    train = pd.merge(train, train_shift, on=index_cols, how='left').fillna(0)\n",
    "\n",
    "    # Test\n",
    "    test_month_shift = 34 - month_shift\n",
    "    test_shift = train.loc[train.date_block_num == test_month_shift, test_index_cols + cols_to_rename].copy()\n",
    "    test_shift = test_shift.rename(columns=foo)\n",
    "    \n",
    "    sales_test = pd.merge(sales_test, test_shift, on=test_index_cols, how='left').fillna(0)\n",
    "\n",
    "lagged_features = [col for col in train.columns if 'lag' in col]\n",
    "del train_shift, test_shift\n",
    "gc.collect();"
   ]
  },
  {
   "cell_type": "markdown",
   "metadata": {},
   "source": [
    "#### Text features"
   ]
  },
  {
   "cell_type": "code",
   "execution_count": 9,
   "metadata": {},
   "outputs": [
    {
     "name": "stdout",
     "output_type": "stream",
     "text": [
      "Generate text features\n",
      "Extract from item_category_id\n",
      "Top frequency words:\n",
      "['подарки' 'игры' 'книги' 'цифра' 'музыка' 'аксессуары' 'программы'\n",
      " 'консоли' 'игровые' 'кино' 'pc' 'xbox' 'литература' 'карты' 'оплаты'\n",
      " 'издания' 'psp' 'ps2' 'ps3' 'ps4' 'psvita' '1с' 'аудиокниги' 'one' '360'\n",
      " 'blu' 'ray' 'открытки' 'производства' 'офиса']\n",
      "\n",
      "Transform data\n",
      "Save to file\n",
      "\n",
      "Extract from shop_id\n",
      "Top frequency words:\n",
      "['москва' 'мега' 'тюмень' 'воронеж' 'молл' 'якутск' 'красноярск' 'спб'\n",
      " 'центральный' 'ростовнадону' 'век' 'магазин' 'новосибирск' 'уфа' 'рио'\n",
      " 'самара' 'казань' 'буденовский' 'чкалова' 'паркхаус' 'жуковский'\n",
      " 'новгород' 'сити' 'мегацентр' 'горизонт' 'фран' '56' 'орджоникидзе'\n",
      " 'фантастика' 'парк']\n",
      "\n",
      "Transform data\n",
      "Save to file\n",
      "\n",
      "Extract from item_id\n",
      "Top frequency words:\n",
      "['bd' 'регион' 'версия' 'pc' 'цифровая' 'русская' 'jewel' '1с' 'dvd'\n",
      " 'фирм' 'фигурка' 'cd' 'lp' 'mp3' 'ps3' 'xbox' 'edition' 'коллекция' '3d'\n",
      " 'арт' 'digipack' '2cd' 'футболка' 'игрушка' 'сб' 'игра' '360' 'русские'\n",
      " 'субтитры' 'английская']\n",
      "\n",
      "Transform data\n",
      "Save to file\n",
      "\n",
      "Success!\n"
     ]
    }
   ],
   "source": [
    "# Sklearn TfidfVectorizer do all necessary preprocessing\n",
    "# Save mappers to original columns\n",
    "# I also drop some useless words\n",
    "train_tf_idf_features = {}\n",
    "test_tf_idf_features = {}\n",
    "texts = [item_categories.item_category_name, shops.shop_name, items.item_name]\n",
    "text_names = ['item_category_id', 'shop_id', 'item_id']\n",
    "\n",
    "print('Generate text features')\n",
    "stop_words = {\n",
    "    'item_category_id': ['для'],\n",
    "    'shop_id': ['тц', 'тк', 'трк', 'трц', 'ii', 'ул', 'пав'],\n",
    "    'item_id': ['the', 'для', 'of', 'на']\n",
    "}\n",
    "for name, text in zip(text_names, texts):\n",
    "    print(f'Extract from {name}')\n",
    "    vectorizer = TfidfVectorizer(max_features=30, stop_words=stop_words[name])\n",
    "    tf_idf_feats = vectorizer.fit_transform(text)\n",
    "\n",
    "    means = np.array(tf_idf_feats.mean(axis=0)).squeeze()\n",
    "    argsort = means.argsort()\n",
    "    print('Top frequency words:')\n",
    "    print(np.array(vectorizer.get_feature_names())[argsort[::-1][:30]])\n",
    "    print()\n",
    "\n",
    "    # Create and save\n",
    "    print('Transform data')\n",
    "    sparse_text_train = vectorizer.transform(train[name].map(text))\n",
    "    sparse_text_test = vectorizer.transform(sales_test[name].map(text))\n",
    "    train_tf_idf_features[name] = sparse_text_train\n",
    "    test_tf_idf_features[name] = sparse_text_test\n",
    "\n",
    "    print('Save to file')\n",
    "    save_npz(name + '_tf_idf_train', sparse_text_train)\n",
    "    save_npz(name + '_tf_idf_test', sparse_text_test)\n",
    "    print()\n",
    "print('Success!')"
   ]
  },
  {
   "cell_type": "markdown",
   "metadata": {},
   "source": [
    "#### Reduce train size"
   ]
  },
  {
   "cell_type": "code",
   "execution_count": 10,
   "metadata": {
    "collapsed": true
   },
   "outputs": [],
   "source": [
    "start_month = 6\n",
    "reduce_mask = train.date_block_num > start_month\n",
    "train = train[reduce_mask]\n",
    "train.reset_index(inplace=True, drop=True)\n",
    "\n",
    "for name in train_tf_idf_features:\n",
    "    train_tf_idf_features[name] = train_tf_idf_features[name][reduce_mask.values]\n",
    "\n",
    "del reduce_mask\n",
    "gc.collect();"
   ]
  },
  {
   "cell_type": "markdown",
   "metadata": {},
   "source": [
    "#### Magic feature"
   ]
  },
  {
   "cell_type": "code",
   "execution_count": 11,
   "metadata": {
    "collapsed": true
   },
   "outputs": [],
   "source": [
    "FEATURE_INTERNAL_INDEX = 'internal_index'\n",
    "def create_first_magic_feature(tr, test, new_col=FEATURE_INTERNAL_INDEX):\n",
    "    counts_mapping = tr.groupby(['date_block_num', 'shop_id']).shop_id.count()\n",
    "    counts = pd.Series(list(zip(tr.date_block_num, tr.shop_id))).map(counts_mapping)\n",
    "    tr[new_col] = (tr.groupby(['date_block_num', 'shop_id']).shop_id.cumcount() / counts).astype(np.float32)\n",
    "\n",
    "    counts_mapping = test.groupby('shop_id').shop_id.count()\n",
    "    counts = test.shop_id.map(counts_mapping)\n",
    "    test[new_col] = (test.groupby('shop_id').shop_id.cumcount() / counts).astype(np.float32)\n",
    "\n",
    "create_first_magic_feature(train, sales_test)"
   ]
  },
  {
   "cell_type": "code",
   "execution_count": 12,
   "metadata": {
    "collapsed": true
   },
   "outputs": [],
   "source": [
    "FEATURE_ITEM_ID_FREQS = 'item_id_freqs'\n",
    "def create_second_good_feature(tr, test, new_col=FEATURE_ITEM_ID_FREQS):\n",
    "    tr[new_col] = np.nan\n",
    "    for month_num in np.unique(tr.date_block_num)[1:]:\n",
    "        prev_mask = (sales_train.date_block_num == month_num-1)\n",
    "        prev_mapping = sales_train[prev_mask].item_id.value_counts()\n",
    "\n",
    "        train_cur_mask = tr.date_block_num == month_num\n",
    "        \n",
    "        tr.loc[train_cur_mask, new_col] = tr.loc[train_cur_mask, 'item_id'].map(prev_mapping) / prev_mapping.sum()\n",
    "    \n",
    "    mask = sales_train.date_block_num == tr.date_block_num.max()\n",
    "    full_mapping = sales_train[mask].item_id.value_counts()\n",
    "    test[new_col] = test['item_id'].map(full_mapping) / full_mapping.sum()\n",
    "\n",
    "    tr[new_col] = tr[new_col].astype(np.float32)\n",
    "    test[new_col] = test[new_col].astype(np.float32)\n",
    "\n",
    "    tr.fillna(0, inplace=True)\n",
    "    test.fillna(0, inplace=True)\n",
    "\n",
    "create_second_good_feature(train, sales_test)"
   ]
  },
  {
   "cell_type": "code",
   "execution_count": 13,
   "metadata": {
    "collapsed": true
   },
   "outputs": [],
   "source": [
    "FEATURE_ITEM_ID_FREQS2 = 'item_id_freqs2'\n",
    "def create_third_good_feature(tr, test, new_col=FEATURE_ITEM_ID_FREQS2):\n",
    "    tr[new_col] = np.nan\n",
    "    for month_num in np.unique(tr.date_block_num)[2:]:\n",
    "        prev_mask = (sales_train.date_block_num == month_num-2)\n",
    "        prev_mapping = sales_train[prev_mask].item_id.value_counts()\n",
    "\n",
    "        train_cur_mask = tr.date_block_num == month_num\n",
    "        \n",
    "        tr.loc[train_cur_mask, new_col] = tr.loc[train_cur_mask, 'item_id'].map(prev_mapping) / prev_mapping.sum()\n",
    "    \n",
    "    mask = sales_train.date_block_num == tr.date_block_num.max() - 1\n",
    "    full_mapping = sales_train[mask].item_id.value_counts()\n",
    "    test[new_col] = test['item_id'].map(full_mapping) / full_mapping.sum()\n",
    "\n",
    "    tr[new_col] = tr[new_col].astype(np.float32)\n",
    "    test[new_col] = test[new_col].astype(np.float32)\n",
    "\n",
    "    tr.fillna(0, inplace=True)\n",
    "    test.fillna(0, inplace=True)\n",
    "\n",
    "create_third_good_feature(train, sales_test)"
   ]
  },
  {
   "cell_type": "markdown",
   "metadata": {},
   "source": [
    "### Mean encoding"
   ]
  },
  {
   "cell_type": "code",
   "execution_count": 14,
   "metadata": {
    "collapsed": true
   },
   "outputs": [],
   "source": [
    "cat_columns = ['shop_id', 'item_id', 'item_category_id']\n",
    "global_mean = train.target.mean()\n",
    "current_encoder = ''\n",
    "enc_features = {}"
   ]
  },
  {
   "cell_type": "code",
   "execution_count": 15,
   "metadata": {
    "collapsed": true
   },
   "outputs": [],
   "source": [
    "def get_enc_name(col):\n",
    "    return f'{col}_enc'\n",
    "\n",
    "def get_enc_features():\n",
    "    enc_ = [feat for feat in enc_features if 'enc' in feat]\n",
    "    return enc_\n",
    "\n",
    "def clear_enc_features():\n",
    "    for feature in get_enc_features():\n",
    "        if feature in enc_features:\n",
    "            del enc_features[feature]"
   ]
  },
  {
   "cell_type": "code",
   "execution_count": 16,
   "metadata": {
    "collapsed": true
   },
   "outputs": [],
   "source": [
    "# Using expanding mean\n",
    "def create_expand_mean_enc(tr, test, col):\n",
    "    new_col_name = get_enc_name(col)\n",
    "    tr[new_col_name] = np.nan\n",
    "\n",
    "    cumsum = tr.groupby(col)['target'].cumsum() - tr['target']\n",
    "    cumcount = tr.groupby(col)['target'].cumcount()\n",
    "\n",
    "    expanding_mean = pd.DataFrame({'expand_mean': cumsum / cumcount,\n",
    "                                   'date_block_num': tr.date_block_num,\n",
    "                                   col: tr[col]})\n",
    "    for block_num in np.unique(tr.date_block_num)[1:]:\n",
    "        cur_mask = tr.date_block_num == block_num\n",
    "        prev_mask = tr.date_block_num <= block_num - 1\n",
    "        \n",
    "        mapping = expanding_mean[prev_mask].groupby(col).expand_mean.last()\n",
    "        tr.loc[cur_mask, new_col_name] = tr.loc[cur_mask, col].map(mapping)\n",
    "        \n",
    "    \n",
    "    # Fill train with last seen values from train\n",
    "    prev_mask = tr.date_block_num <= tr.date_block_num.max()\n",
    "    mapping = expanding_mean[prev_mask].groupby(col).expand_mean.last()\n",
    "    test[new_col_name] = test[col].map(mapping)\n",
    "    \n",
    "    # Downcast\n",
    "    tr[new_col_name] = tr[new_col_name].astype(np.float32)\n",
    "    test[new_col_name] = test[new_col_name].astype(np.float32)\n",
    "    \n",
    "    # Fill NaNs\n",
    "    tr[new_col_name].fillna(global_mean, inplace=True) \n",
    "    tr[new_col_name].replace(np.inf, global_mean, inplace=True)\n",
    "\n",
    "    test[new_col_name].fillna(global_mean, inplace=True) \n",
    "    test[new_col_name].replace(np.inf, global_mean, inplace=True)\n",
    "\n",
    "clear_enc_features()\n",
    "for col in cat_columns:\n",
    "    enc_features[get_enc_name(col)] = partial(create_expand_mean_enc, col=col)\n",
    "current_encoder = 'expand_mean_enc'"
   ]
  },
  {
   "cell_type": "code",
   "execution_count": 17,
   "metadata": {
    "scrolled": true
   },
   "outputs": [
    {
     "name": "stdout",
     "output_type": "stream",
     "text": [
      "Using expand_mean_enc\n"
     ]
    }
   ],
   "source": [
    "# Global train encoding\n",
    "print(f'Using {current_encoder}')\n",
    "for feat in get_enc_features():\n",
    "    enc_func = enc_features[feat]\n",
    "    enc_func(train, sales_test)"
   ]
  },
  {
   "cell_type": "markdown",
   "metadata": {},
   "source": [
    "## Validation"
   ]
  },
  {
   "cell_type": "code",
   "execution_count": 18,
   "metadata": {
    "collapsed": true
   },
   "outputs": [],
   "source": [
    "def make_folds(data, last_k_month=3, except_month=(), ret_month=False):\n",
    "    n_month = data.date_block_num.max()\n",
    "    \n",
    "    for k in range(0, n_month):\n",
    "        # Stop iter\n",
    "        if last_k_month == 0:\n",
    "            return\n",
    "        \n",
    "        test_month = n_month - k\n",
    "        \n",
    "        if test_month in except_month:\n",
    "            continue\n",
    "        \n",
    "        train_mask = data.date_block_num < test_month\n",
    "        test_mask = data.date_block_num == test_month\n",
    "        print(f'pick month {test_month} as test; '\n",
    "              f'train size {train_mask.sum()}, test size {test_mask.sum()}')\n",
    "        if ret_month:\n",
    "            yield train_mask, test_mask, test_month\n",
    "        else:\n",
    "            yield train_mask, test_mask\n",
    "        last_k_month -= 1"
   ]
  },
  {
   "cell_type": "markdown",
   "metadata": {},
   "source": [
    "## Models"
   ]
  },
  {
   "cell_type": "markdown",
   "metadata": {},
   "source": [
    "### XGBoost"
   ]
  },
  {
   "cell_type": "code",
   "execution_count": 19,
   "metadata": {
    "collapsed": true
   },
   "outputs": [],
   "source": [
    "def gbdt_val_score(model_cls, train_columns, n_folds=5, except_month=(26, 30, 31, 33),\n",
    "                   verbose_=True, **model_params):\n",
    "    if verbose_:\n",
    "        print(f'Use columns: {train_columns}')\n",
    "        print(f'Feature mean encoder: {current_encoder}')\n",
    "    \n",
    "    train_rmse = None\n",
    "    rmse_train_list = []\n",
    "    rmse_val_list = []\n",
    "    feature_importances = []\n",
    "    predictions = []\n",
    "    preds_months = []\n",
    "    for i, (train_mask, test_mask, month) in enumerate(make_folds(train, n_folds, ret_month=True,\n",
    "                                                                  except_month=except_month)):\n",
    "        if verbose_:\n",
    "            print(f'Fold {i+1}/{n_folds}')\n",
    "        train_fold = train.loc[train_mask].copy()\n",
    "        test_fold = train.loc[test_mask].copy()\n",
    "        \n",
    "        train_target = train_fold['target']\n",
    "        test_target = test_fold['target']\n",
    "        \n",
    "        plt.plot(test_fold.shop_id.values[:50000])\n",
    "        \n",
    "        cols_to_drop = list(set(train_fold.columns) - set(train_columns))\n",
    "        train_fold.drop(cols_to_drop, axis=1, inplace=True)\n",
    "        test_fold.drop(cols_to_drop, axis=1, inplace=True)\n",
    "        \n",
    "        assert set(train_fold.columns) == set(train_columns)\n",
    "        \n",
    "        if verbose_:\n",
    "            print(' start training')\n",
    "        model = model_cls(**model_params)\n",
    "        model.fit(train_fold.values, train_target.values)\n",
    "        \n",
    "        feature_importances.append(model.feature_importances_)\n",
    "        \n",
    "        #train_fold_prediction = model.predict(train_fold.values)\n",
    "        time.sleep(2)  # some gpu issues\n",
    "        gc.collect()\n",
    "        test_fold_prediction = model.predict(test_fold.values)\n",
    "        predictions.append(test_fold_prediction)\n",
    "        preds_months.append(np.full(test_fold_prediction.size, month))\n",
    "        #train_rmse = mean_squared_error(clip_month_counts(train_target.values),\n",
    "        #                                clip_month_counts(train_fold_prediction)) ** 0.5\n",
    "        test_rmse = mean_squared_error(clip_month_counts(test_target.values),\n",
    "                                       clip_month_counts(test_fold_prediction)) ** 0.5\n",
    "        if verbose_:\n",
    "            print(f' train fold rmse: {train_rmse}')\n",
    "            print(f' test fold rmse: {test_rmse}')\n",
    "        \n",
    "        #rmse_train_list.append(train_rmse)\n",
    "        rmse_val_list.append(test_rmse)\n",
    "        \n",
    "        if model_cls == xgb.XGBRegressor:\n",
    "            model.get_booster().__del__()\n",
    "            \n",
    "        \n",
    "        plt.twinx()\n",
    "        plt.plot(test_fold_prediction[:50000], color='red')\n",
    "        plt.ylim(0, None)\n",
    "        plt.show()\n",
    "    \n",
    "    #train_rmse = np.mean(rmse_train_list)\n",
    "    #print('\\nTrain mean RMSE: {} (std = {})'.format(train_rmse, np.std(rmse_train_list)))\n",
    "    val_rmse = np.mean(rmse_val_list)\n",
    "    print('Validation mean RMSE: {} (std = {})'.format(val_rmse, np.std(rmse_val_list)))\n",
    "    \n",
    "    if verbose_:\n",
    "        print('Feature importances:')\n",
    "        for col, imp in zip(train_columns, np.mean(feature_importances, axis=0)):\n",
    "            print(f'{col}: {imp:.4f}')\n",
    "    \n",
    "    oof_predictions = pd.DataFrame({'target': np.concatenate(predictions[::-1]),\n",
    "                                    'date_block_num': np.concatenate(preds_months[::-1])})\n",
    "    \n",
    "    return oof_predictions, train_rmse, val_rmse"
   ]
  },
  {
   "cell_type": "code",
   "execution_count": 20,
   "metadata": {
    "collapsed": true
   },
   "outputs": [],
   "source": [
    "best_lb_params = {\n",
    "    'max_depth': 6,\n",
    "    'tree_method': TREE_METHOD\n",
    "}"
   ]
  },
  {
   "cell_type": "markdown",
   "metadata": {},
   "source": [
    "#### Generate meta-predictions\n",
    "OOF predictions."
   ]
  },
  {
   "cell_type": "code",
   "execution_count": 21,
   "metadata": {
    "scrolled": true
   },
   "outputs": [
    {
     "name": "stdout",
     "output_type": "stream",
     "text": [
      "Use columns: ['internal_index', 'item_id_freqs', 'item_id_freqs2', 'target_lag_1', 'target_lag_2', 'target_lag_3', 'target_lag_6', 'target_lag_12', 'shop_id_enc', 'item_id_enc', 'item_category_id_enc']\n",
      "Feature mean encoder: expand_mean_enc\n",
      "pick month 33 as test; train size 8026340, test size 238172\n",
      "Fold 1/12\n",
      " start training\n",
      " train fold rmse: None\n",
      " test fold rmse: 0.9348904849495379\n"
     ]
    },
    {
     "data": {
      "image/png": "[encoded data removed]",
      "text/plain": [
       "<matplotlib.figure.Figure at 0x1643880c9e8>"
      ]
     },
     "metadata": {},
     "output_type": "display_data"
    },
    {
     "name": "stdout",
     "output_type": "stream",
     "text": [
      "pick month 32 as test; train size 7807685, test size 218655\n",
      "Fold 2/12\n",
      " start training\n",
      " train fold rmse: None\n",
      " test fold rmse: 0.919481143542338\n"
     ]
    },
    {
     "data": {
      "image/png": "[encoded data removed]",
      "text/plain": [
       "<matplotlib.figure.Figure at 0x1643882c198>"
      ]
     },
     "metadata": {},
     "output_type": "display_data"
    },
    {
     "name": "stdout",
     "output_type": "stream",
     "text": [
      "pick month 31 as test; train size 7593149, test size 214536\n",
      "Fold 3/12\n",
      " start training\n",
      " train fold rmse: None\n",
      " test fold rmse: 0.8040932989170736\n"
     ]
    },
    {
     "data": {
      "image/png": "[encoded data removed]",
      "text/plain": [
       "<matplotlib.figure.Figure at 0x16400222d30>"
      ]
     },
     "metadata": {},
     "output_type": "display_data"
    },
    {
     "name": "stdout",
     "output_type": "stream",
     "text": [
      "pick month 30 as test; train size 7364260, test size 228889\n",
      "Fold 4/12\n",
      " start training\n",
      " train fold rmse: None\n",
      " test fold rmse: 0.7201564959150918\n"
     ]
    },
    {
     "data": {
      "image/png": "[encoded data removed]",
      "text/plain": [
       "<matplotlib.figure.Figure at 0x16400208ef0>"
      ]
     },
     "metadata": {},
     "output_type": "display_data"
    },
    {
     "name": "stdout",
     "output_type": "stream",
     "text": [
      "pick month 29 as test; train size 7139972, test size 224288\n",
      "Fold 5/12\n",
      " start training\n",
      " train fold rmse: None\n",
      " test fold rmse: 0.847825556428503\n"
     ]
    },
    {
     "data": {
      "image/png": "[encoded data removed]",
      "text/plain": [
       "<matplotlib.figure.Figure at 0x1643880c4e0>"
      ]
     },
     "metadata": {},
     "output_type": "display_data"
    },
    {
     "name": "stdout",
     "output_type": "stream",
     "text": [
      "pick month 28 as test; train size 6907520, test size 232452\n",
      "Fold 6/12\n",
      " start training\n",
      " train fold rmse: None\n",
      " test fold rmse: 0.8239344969981703\n"
     ]
    },
    {
     "data": {
      "image/png": "[encoded data removed]",
      "text/plain": [
       "<matplotlib.figure.Figure at 0x1643fa1b240>"
      ]
     },
     "metadata": {},
     "output_type": "display_data"
    },
    {
     "name": "stdout",
     "output_type": "stream",
     "text": [
      "pick month 27 as test; train size 6650148, test size 257372\n",
      "Fold 7/12\n",
      " start training\n",
      " train fold rmse: None\n",
      " test fold rmse: 0.9134599052445487\n"
     ]
    },
    {
     "data": {
      "image/png": "[encoded data removed]",
      "text/plain": [
       "<matplotlib.figure.Figure at 0x1643880c0b8>"
      ]
     },
     "metadata": {},
     "output_type": "display_data"
    },
    {
     "name": "stdout",
     "output_type": "stream",
     "text": [
      "pick month 26 as test; train size 6370376, test size 279772\n",
      "Fold 8/12\n",
      " start training\n",
      " train fold rmse: None\n",
      " test fold rmse: 0.8174723549931083\n"
     ]
    },
    {
     "data": {
      "image/png": "[encoded data removed]",
      "text/plain": [
       "<matplotlib.figure.Figure at 0x1640093b208>"
      ]
     },
     "metadata": {},
     "output_type": "display_data"
    },
    {
     "name": "stdout",
     "output_type": "stream",
     "text": [
      "pick month 25 as test; train size 6085885, test size 284491\n",
      "Fold 9/12\n",
      " start training\n",
      " train fold rmse: None\n",
      " test fold rmse: 0.8191053318320988\n"
     ]
    },
    {
     "data": {
      "image/png": "[encoded data removed]",
      "text/plain": [
       "<matplotlib.figure.Figure at 0x164002362e8>"
      ]
     },
     "metadata": {},
     "output_type": "display_data"
    },
    {
     "name": "stdout",
     "output_type": "stream",
     "text": [
      "pick month 24 as test; train size 5778935, test size 306950\n",
      "Fold 10/12\n",
      " start training\n",
      " train fold rmse: None\n",
      " test fold rmse: 0.8703252370234479\n"
     ]
    },
    {
     "data": {
      "image/png": "[encoded data removed]",
      "text/plain": [
       "<matplotlib.figure.Figure at 0x16435d4b978>"
      ]
     },
     "metadata": {},
     "output_type": "display_data"
    },
    {
     "name": "stdout",
     "output_type": "stream",
     "text": [
      "pick month 23 as test; train size 5448685, test size 330250\n",
      "Fold 11/12\n",
      " start training\n",
      " train fold rmse: None\n",
      " test fold rmse: 1.1869936917755208\n"
     ]
    },
    {
     "data": {
      "image/png": "[encoded data removed]",
      "text/plain": [
       "<matplotlib.figure.Figure at 0x1640022cef0>"
      ]
     },
     "metadata": {},
     "output_type": "display_data"
    },
    {
     "name": "stdout",
     "output_type": "stream",
     "text": [
      "pick month 22 as test; train size 5132585, test size 316100\n",
      "Fold 12/12\n",
      " start training\n",
      " train fold rmse: None\n",
      " test fold rmse: 0.9979912430698222\n"
     ]
    },
    {
     "data": {
      "image/png": "[encoded data removed]",
      "text/plain": [
       "<matplotlib.figure.Figure at 0x1640020f208>"
      ]
     },
     "metadata": {},
     "output_type": "display_data"
    },
    {
     "name": "stdout",
     "output_type": "stream",
     "text": [
      "Validation mean RMSE: 0.8879774367241052 (std = 0.11412582753139844)\n",
      "Feature importances:\n",
      "internal_index: 0.1559\n",
      "item_id_freqs: 0.0847\n",
      "item_id_freqs2: 0.0738\n",
      "target_lag_1: 0.0546\n",
      "target_lag_2: 0.0415\n",
      "target_lag_3: 0.1854\n",
      "target_lag_6: 0.0727\n",
      "target_lag_12: 0.0478\n",
      "shop_id_enc: 0.1508\n",
      "item_id_enc: 0.0419\n",
      "item_category_id_enc: 0.0909\n"
     ]
    }
   ],
   "source": [
    "train_columns = [\n",
    "    'internal_index',\n",
    "    'item_id_freqs',\n",
    "    'item_id_freqs2',\n",
    "]\n",
    "train_columns += lagged_features\n",
    "train_columns += get_enc_features()\n",
    "\n",
    "\n",
    "oof_preds, _, _ = gbdt_val_score(xgb.XGBRegressor, n_folds=12, \n",
    "                                 train_columns=train_columns,\n",
    "                                 except_month=(),\n",
    "                                 **best_lb_params)"
   ]
  },
  {
   "cell_type": "code",
   "execution_count": 22,
   "metadata": {
    "collapsed": true
   },
   "outputs": [],
   "source": [
    "oof_preds.to_csv('OOF_xgb_basic.csv', index=False)"
   ]
  },
  {
   "cell_type": "markdown",
   "metadata": {},
   "source": [
    "#### Final predictions"
   ]
  },
  {
   "cell_type": "code",
   "execution_count": 35,
   "metadata": {
    "scrolled": true
   },
   "outputs": [
    {
     "data": {
      "text/plain": [
       "['internal_index',\n",
       " 'item_id_freqs',\n",
       " 'item_id_freqs2',\n",
       " 'target_lag_1',\n",
       " 'target_lag_2',\n",
       " 'target_lag_3',\n",
       " 'target_lag_6',\n",
       " 'target_lag_12',\n",
       " 'shop_id_enc',\n",
       " 'item_id_enc',\n",
       " 'item_category_id_enc']"
      ]
     },
     "execution_count": 35,
     "metadata": {},
     "output_type": "execute_result"
    }
   ],
   "source": [
    "train_columns = [\n",
    "    'internal_index',\n",
    "    'item_id_freqs',\n",
    "    'item_id_freqs2'\n",
    "]\n",
    "train_columns += lagged_features\n",
    "train_columns += get_enc_features()\n",
    "\n",
    "train_columns"
   ]
  },
  {
   "cell_type": "code",
   "execution_count": 24,
   "metadata": {},
   "outputs": [
    {
     "data": {
      "text/plain": [
       "XGBRegressor(base_score=0.5, booster='gbtree', colsample_bylevel=1,\n",
       "       colsample_bytree=1, gamma=0, learning_rate=0.1, max_delta_step=0,\n",
       "       max_depth=6, min_child_weight=1, missing=None, n_estimators=100,\n",
       "       n_jobs=1, nthread=None, objective='reg:linear', random_state=0,\n",
       "       reg_alpha=0, reg_lambda=1, scale_pos_weight=1, seed=None,\n",
       "       silent=True, subsample=1, tree_method='gpu_hist')"
      ]
     },
     "execution_count": 24,
     "metadata": {},
     "output_type": "execute_result"
    }
   ],
   "source": [
    "model = xgb.XGBRegressor(**best_lb_params)\n",
    "model.fit(train[train_columns].values, train['target'].values)"
   ]
  },
  {
   "cell_type": "code",
   "execution_count": 25,
   "metadata": {},
   "outputs": [
    {
     "name": "stdout",
     "output_type": "stream",
     "text": [
      "Train rmse: 0.8892706561988588\n"
     ]
    }
   ],
   "source": [
    "train_prediction = model.predict(train[train_columns].values)\n",
    "# train_prediction = rounding(train_prediction)\n",
    "train_rmse = mean_squared_error(clip_month_counts(train['target']),\n",
    "                                clip_month_counts(train_prediction)) ** 0.5\n",
    "print('Train rmse:', train_rmse)"
   ]
  },
  {
   "cell_type": "code",
   "execution_count": 39,
   "metadata": {
    "collapsed": true
   },
   "outputs": [],
   "source": [
    "predictions = model.predict(sales_test[train_columns].values)"
   ]
  },
  {
   "cell_type": "code",
   "execution_count": null,
   "metadata": {
    "collapsed": true
   },
   "outputs": [],
   "source": [
    "plt.plot(sales_test.shop_id.values[5000:20000])\n",
    "plt.twinx()\n",
    "plt.plot(predictions[5000:20000], color='red')\n",
    "plt.ylim(0, None)\n",
    "plt.twinx()\n",
    "plt.plot(sales_test.item_id_freqs.values[5000:20000], color='green', alpha=0.5)\n",
    "plt.ylim(0, None);"
   ]
  },
  {
   "cell_type": "code",
   "execution_count": 41,
   "metadata": {
    "collapsed": true
   },
   "outputs": [],
   "source": [
    "save_submit_results(sales_test.index, predictions, 'xgb_final')"
   ]
  },
  {
   "cell_type": "markdown",
   "metadata": {},
   "source": [
    "### Linear regression"
   ]
  },
  {
   "cell_type": "code",
   "execution_count": 28,
   "metadata": {
    "collapsed": true
   },
   "outputs": [],
   "source": [
    "# Get text features\n",
    "cols_to_one_hot = ['shop_id', 'item_category_id']\n",
    "train_text_features = [train_tf_idf_features[name] for name in sorted(train_tf_idf_features)]\n",
    "test_text_features = [test_tf_idf_features[name] for name in sorted(test_tf_idf_features)]"
   ]
  },
  {
   "cell_type": "code",
   "execution_count": 29,
   "metadata": {
    "collapsed": true
   },
   "outputs": [],
   "source": [
    "# One hot encoding\n",
    "encoders = []\n",
    "train_one_hot_features = []\n",
    "test_one_hot_features = []\n",
    "\n",
    "max_vals = {'shop_id': shops.index.max(),\n",
    "            'item_category_id': item_categories.index.max(),\n",
    "            'item_id': items.index.max()}\n",
    "\n",
    "one_hot = OneHotEncoder(n_values=[max_vals[col]+1 for col in cols_to_one_hot])\n",
    "\n",
    "train_one_hot = one_hot.fit_transform(train[cols_to_one_hot].values)\n",
    "train_one_hot_features.append(train_one_hot)\n",
    "\n",
    "test_one_hot = one_hot.transform(sales_test[cols_to_one_hot].values)\n",
    "test_one_hot_features.append(test_one_hot)"
   ]
  },
  {
   "cell_type": "code",
   "execution_count": 30,
   "metadata": {
    "collapsed": true
   },
   "outputs": [],
   "source": [
    "# Stack everything to sparse format\n",
    "train_all_sparse_features = train_text_features + [train_one_hot]\n",
    "test_all_sparse_features = test_text_features + [test_one_hot]\n",
    "sparse_train = hstack(train_all_sparse_features, format='csr').astype(np.float32)\n",
    "sparse_test = hstack(test_all_sparse_features, format='csr').astype(np.float32)\n",
    "gc.collect();"
   ]
  },
  {
   "cell_type": "code",
   "execution_count": 31,
   "metadata": {
    "collapsed": true
   },
   "outputs": [],
   "source": [
    "# Reduce dimensions\n",
    "svd = TruncatedSVD(30)\n",
    "svd = svd.fit_transform(vstack([sparse_train, sparse_test]))\n",
    "svd_train = svd[:sparse_train.shape[0]]\n",
    "svd_test = svd[sparse_train.shape[0]:]\n",
    "del svd"
   ]
  },
  {
   "cell_type": "code",
   "execution_count": 32,
   "metadata": {
    "collapsed": true
   },
   "outputs": [],
   "source": [
    "# This one with scaling\n",
    "def sparse_data_val_score(model_cls, non_sparse_columns, use_svd=True, n_folds=5, verbose_=True,\n",
    "                          except_month=(26, 30, 31), scale=True, **model_params):\n",
    "    \n",
    "    if verbose_:\n",
    "        print(f'Use columns: {non_sparse_columns}')    \n",
    "    \n",
    "    rmse_train_list = []\n",
    "    rmse_val_list = []\n",
    "    predictions = []\n",
    "    preds_months = []\n",
    "    for i, (train_mask, test_mask, month) in enumerate(make_folds(train, n_folds,\n",
    "                                                                  except_month=except_month,\n",
    "                                                                  ret_month=True)):\n",
    "        if verbose_:\n",
    "            print(f'Fold {i+1}/{n_folds}')\n",
    "        train_fold = train.loc[train_mask].copy()\n",
    "        test_fold = train.loc[test_mask].copy()\n",
    "        \n",
    "        train_target = train_fold['target']\n",
    "        test_target = test_fold['target']\n",
    "        \n",
    "        cols_to_drop = list(set(train_fold.columns) - set(non_sparse_columns))\n",
    "        train_fold.drop(cols_to_drop, axis=1, inplace=True)\n",
    "        test_fold.drop(cols_to_drop, axis=1, inplace=True)\n",
    "        \n",
    "        assert set(train_fold.columns) == set(non_sparse_columns)\n",
    "        \n",
    "        train_fold = train_fold.values\n",
    "        train_mask = train_mask.values\n",
    "        train_target = train_target.values\n",
    "        test_fold = test_fold.values\n",
    "        test_mask = test_mask.values\n",
    "        test_target = test_target.values\n",
    "        \n",
    "        # Scale\n",
    "        if scale:\n",
    "            scaler = MaxAbsScaler()\n",
    "            train_fold = scaler.fit_transform(train_fold)\n",
    "            test_fold = scaler.transform(test_fold)\n",
    "        \n",
    "        # Concatenate with sparse train\n",
    "        if use_svd:\n",
    "            train_fold = np.hstack([train_fold, svd_train[train_mask]])\n",
    "            test_fold = np.hstack([test_fold, svd_train[test_mask]])\n",
    "        else:\n",
    "            train_fold = hstack([train_fold] + [sparse_train[train_mask]])\n",
    "            test_fold = hstack([test_fold] + [sparse_train[test_mask]])\n",
    "        \n",
    "        if verbose_:\n",
    "            print(' start training')\n",
    "        model = model_cls(**model_params)\n",
    "        model.fit(train_fold, train_target)\n",
    "        \n",
    "        train_fold_prediction = model.predict(train_fold)\n",
    "        test_fold_prediction = model.predict(test_fold)\n",
    "        \n",
    "        predictions.append(test_fold_prediction)\n",
    "        preds_months.append(np.full(test_fold_prediction.size, month))\n",
    "        \n",
    "        train_rmse = mean_squared_error(clip_month_counts(train_target),\n",
    "                                        clip_month_counts(train_fold_prediction)) ** 0.5\n",
    "        test_rmse = mean_squared_error(clip_month_counts(test_target),\n",
    "                                       clip_month_counts(test_fold_prediction)) ** 0.5\n",
    "        if verbose_:\n",
    "            print(f' train fold rmse: {train_rmse}')\n",
    "            print(f' test fold rmse: {test_rmse}')\n",
    "        \n",
    "        rmse_train_list.append(train_rmse)\n",
    "        rmse_val_list.append(test_rmse)\n",
    "            \n",
    "    train_rmse = np.mean(rmse_train_list)\n",
    "    val_rmse = np.mean(rmse_val_list)\n",
    "    \n",
    "    print('\\nTrain mean RMSE: {} (std = {})'.format(train_rmse, np.std(rmse_train_list)))\n",
    "    print('Validation mean RMSE: {} (std = {})'.format(val_rmse, np.std(rmse_val_list)))\n",
    "    \n",
    "    oof_predictions = pd.DataFrame({'target': np.concatenate(predictions[::-1]),\n",
    "                                    'date_block_num': np.concatenate(preds_months[::-1])})\n",
    "    return oof_predictions, train_rmse, val_rmse"
   ]
  },
  {
   "cell_type": "markdown",
   "metadata": {},
   "source": [
    "#### Meta-predictions"
   ]
  },
  {
   "cell_type": "code",
   "execution_count": 42,
   "metadata": {
    "scrolled": true
   },
   "outputs": [
    {
     "name": "stdout",
     "output_type": "stream",
     "text": [
      "pick month 33 as test; train size 8026340, test size 238172\n",
      "pick month 32 as test; train size 7807685, test size 218655\n",
      "pick month 31 as test; train size 7593149, test size 214536\n",
      "pick month 30 as test; train size 7364260, test size 228889\n",
      "pick month 29 as test; train size 7139972, test size 224288\n",
      "pick month 28 as test; train size 6907520, test size 232452\n",
      "pick month 27 as test; train size 6650148, test size 257372\n",
      "pick month 26 as test; train size 6370376, test size 279772\n",
      "pick month 25 as test; train size 6085885, test size 284491\n",
      "pick month 24 as test; train size 5778935, test size 306950\n",
      "pick month 23 as test; train size 5448685, test size 330250\n",
      "pick month 22 as test; train size 5132585, test size 316100\n",
      "\n",
      "Train mean RMSE: 1.0248539653861684 (std = 0.016413248367339317)\n",
      "Validation mean RMSE: 0.9666151033965539 (std = 0.12281412173264103)\n"
     ]
    }
   ],
   "source": [
    "train_columns = [\n",
    "    'internal_index',\n",
    "    'item_id_freqs',\n",
    "    'item_id_freqs2',\n",
    "]\n",
    "train_columns += lagged_features\n",
    "\n",
    "params = {'alpha': 4.11}  # Tuned value\n",
    "\n",
    "oof_preds, _, _ = sparse_data_val_score(Ridge, n_folds=12, non_sparse_columns=train_columns,\n",
    "                                        use_svd=True, verbose_=False, except_month=(),\n",
    "                                        **params)"
   ]
  },
  {
   "cell_type": "code",
   "execution_count": 43,
   "metadata": {
    "collapsed": true
   },
   "outputs": [],
   "source": [
    "oof_preds.to_csv('OOF_ridge_tuned.csv', index=False)"
   ]
  },
  {
   "cell_type": "markdown",
   "metadata": {},
   "source": [
    "#### Test predictions"
   ]
  },
  {
   "cell_type": "code",
   "execution_count": 44,
   "metadata": {
    "collapsed": true
   },
   "outputs": [],
   "source": [
    "train_columns = [\n",
    "    'internal_index',\n",
    "    'item_id_freqs',\n",
    "    'item_id_freqs2',\n",
    "]\n",
    "train_columns += lagged_features\n",
    "params = {'alpha': 4.11}  # Tuned value\n",
    "model = Ridge(**params)"
   ]
  },
  {
   "cell_type": "code",
   "execution_count": 45,
   "metadata": {
    "collapsed": true
   },
   "outputs": [],
   "source": [
    "def predict_test(model_cls, model_params, train_columns=train_columns,\n",
    "                 use_svd=True, scale=True):\n",
    "    target = train.target.values\n",
    "\n",
    "    # Scale\n",
    "    if scale:\n",
    "        scaler = MaxAbsScaler()\n",
    "        train_fold = scaler.fit_transform(train[train_columns].values)\n",
    "        test_fold = scaler.transform(sales_test[train_columns].values)\n",
    "\n",
    "    # Concatenate with sparse train\n",
    "    if use_svd:\n",
    "        train_fold = np.hstack([train_fold, svd_train])\n",
    "        test_fold = np.hstack([test_fold, svd_test])\n",
    "    else:\n",
    "        train_fold = hstack([train_fold] + [sparse_train])\n",
    "        test_fold = hstack([test_fold] + [sparse_test])\n",
    "    \n",
    "    model.fit(train_fold, target)\n",
    "    train_preds = model.predict(train_fold)\n",
    "    test_preds = model.predict(test_fold)\n",
    "    return train_preds, test_preds\n",
    "ridge_train_preds, ridge_test_preds = predict_test(model, params)"
   ]
  },
  {
   "cell_type": "code",
   "execution_count": 46,
   "metadata": {
    "collapsed": true
   },
   "outputs": [],
   "source": [
    "save_submit_results(sales_test.index, ridge_test_preds, 'ridge_final')"
   ]
  },
  {
   "cell_type": "markdown",
   "metadata": {},
   "source": [
    "### Stacking\n",
    "Via linear combination. Search coefficient for both predictions separately."
   ]
  },
  {
   "cell_type": "code",
   "execution_count": 47,
   "metadata": {
    "collapsed": true
   },
   "outputs": [],
   "source": [
    "n_oof_month = 12\n",
    "oof_predictions_files = [\n",
    "    'OOF_xgb_basic.csv',\n",
    "    'OOF_ridge_tuned.csv',\n",
    "]\n",
    "test_predictions_files = [\n",
    "    'xgb_final.csv',\n",
    "    'ridge_final.csv'\n",
    "]"
   ]
  },
  {
   "cell_type": "code",
   "execution_count": 48,
   "metadata": {
    "collapsed": true
   },
   "outputs": [],
   "source": [
    "meta_predictions = [pd.read_csv(filename) for filename in oof_predictions_files]\n",
    "test_predictions = [pd.read_csv(filename) for filename in test_predictions_files]\n",
    "meta_target = train.target[train.date_block_num > 33 - n_oof_month]\n",
    "meta_target.reset_index(inplace=True, drop=True)"
   ]
  },
  {
   "cell_type": "code",
   "execution_count": 49,
   "metadata": {
    "collapsed": true
   },
   "outputs": [],
   "source": [
    "meta_predictions = pd.DataFrame({'date_block_num': meta_predictions[0]['date_block_num'],\n",
    "                                 'target_xgb': meta_predictions[0]['target'],\n",
    "                                 'target_ridge': meta_predictions[1]['target']})\n",
    "\n",
    "test_predictions = pd.DataFrame({'target_xgb': test_predictions[0]['item_cnt_month'],\n",
    "                                 'target_ridge': test_predictions[1]['item_cnt_month']})"
   ]
  },
  {
   "cell_type": "code",
   "execution_count": 50,
   "metadata": {},
   "outputs": [
    {
     "name": "stdout",
     "output_type": "stream",
     "text": [
      "0.5\n",
      "0.5102040816326531\n",
      "0.5204081632653061\n",
      "0.5306122448979592\n",
      "0.5408163265306123\n",
      "0.5510204081632653\n",
      "0.5612244897959183\n",
      "0.5714285714285714\n",
      "0.5816326530612245\n",
      "0.5918367346938775\n",
      "0.6020408163265306\n",
      "0.6122448979591837\n",
      "0.6224489795918368\n",
      "0.6326530612244898\n",
      "0.6428571428571428\n",
      "0.6530612244897959\n",
      "0.6632653061224489\n",
      "0.673469387755102\n",
      "0.6836734693877551\n",
      "0.6938775510204082\n",
      "0.7040816326530612\n",
      "0.7142857142857143\n",
      "0.7244897959183674\n",
      "0.7346938775510203\n",
      "0.7448979591836735\n",
      "0.7551020408163265\n",
      "0.7653061224489796\n",
      "0.7755102040816326\n",
      "0.7857142857142857\n",
      "0.7959183673469388\n",
      "0.8061224489795917\n",
      "0.8163265306122449\n",
      "0.8265306122448979\n",
      "0.8367346938775511\n",
      "0.846938775510204\n",
      "0.8571428571428571\n",
      "0.8673469387755102\n",
      "0.8775510204081632\n",
      "0.8877551020408163\n",
      "0.8979591836734693\n",
      "0.9081632653061225\n",
      "0.9183673469387754\n",
      "0.9285714285714286\n",
      "0.9387755102040816\n",
      "0.9489795918367346\n",
      "0.9591836734693877\n",
      "0.9693877551020408\n",
      "0.9795918367346939\n",
      "0.9897959183673469\n",
      "1.0\n",
      "Best alpha: 0.6632653061224489, best beta: 0.18367346938775508 with rmse 0.8888981793653999\n"
     ]
    }
   ],
   "source": [
    "best_alpha = 1.\n",
    "best_beta = 1.\n",
    "best_rmse = 99999\n",
    "for alpha in np.linspace(0.5, 1, 50):\n",
    "    print(alpha)\n",
    "    for beta in np.linspace(-1, 1, 50):\n",
    "        preds = meta_predictions['target_xgb'].values * alpha + meta_predictions['target_ridge'] * beta\n",
    "        rmse = mean_squared_error(clip_month_counts(meta_target.values),\n",
    "                                  clip_month_counts(preds)) ** 0.5\n",
    "        if rmse < best_rmse:\n",
    "            best_rmse = rmse\n",
    "            best_alpha = alpha\n",
    "            best_beta = beta\n",
    "print(f'Best alpha: {best_alpha}, best beta: {best_beta} with rmse {best_rmse}')"
   ]
  },
  {
   "cell_type": "code",
   "execution_count": 51,
   "metadata": {
    "collapsed": true
   },
   "outputs": [],
   "source": [
    "stacked_predictions = (test_predictions['target_xgb'].values * best_alpha\n",
    "                       + test_predictions['target_ridge'] * best_beta)"
   ]
  },
  {
   "cell_type": "code",
   "execution_count": 52,
   "metadata": {
    "collapsed": true
   },
   "outputs": [],
   "source": [
    "# Here we are\n",
    "save_submit_results(sales_test.index, stacked_predictions, 'stacked_final')"
   ]
  },
  {
   "cell_type": "markdown",
   "metadata": {},
   "source": [
    "Thanks for reading!"
   ]
  }
 ],
 "metadata": {
  "kernelspec": {
   "display_name": "Python 3",
   "language": "python",
   "name": "python3"
  },
  "language_info": {
   "codemirror_mode": {
    "name": "ipython",
    "version": 3
   },
   "file_extension": ".py",
   "mimetype": "text/x-python",
   "name": "python",
   "nbconvert_exporter": "python",
   "pygments_lexer": "ipython3",
   "version": "3.6.3"
  }
 },
 "nbformat": 4,
 "nbformat_minor": 2
}
