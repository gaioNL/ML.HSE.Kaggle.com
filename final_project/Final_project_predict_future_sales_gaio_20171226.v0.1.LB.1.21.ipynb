{
 "cells": [
  {
   "cell_type": "markdown",
   "metadata": {},
   "source": [
    "Update 20.12.2017.3 - introduced early stopping for LightGBM & updated LightGBM params\n",
    "\n",
    "Update 21.12.2017 - Introduced stacking & ensemble\n",
    "\n",
    "Udate 02.01.2017 - restarted working on EDA"
   ]
  },
  {
   "cell_type": "markdown",
   "metadata": {},
   "source": [
    "# Final project: predict future sales"
   ]
  },
  {
   "cell_type": "markdown",
   "metadata": {},
   "source": [
    "This challenge serves as final project for the \"How to win a data science competition\" Coursera course.\n",
    "In this competition you will work with a challenging time-series dataset consisting of daily sales data, kindly provided by one of the largest Russian software firms - 1C Company. \n",
    "\n",
    "We are asking you to predict total sales for every product and store in the next month. By solving this competition you will be able to apply and enhance your data science skills."
   ]
  },
  {
   "cell_type": "code",
   "execution_count": 1,
   "metadata": {
    "collapsed": true
   },
   "outputs": [],
   "source": [
    "import pandas as pd\n",
    "import numpy as np\n",
    "import os\n",
    "import gc\n",
    "import seaborn as sns\n",
    "import matplotlib.pyplot as plt\n",
    "%matplotlib inline \n",
    "\n",
    "pd.set_option('display.max_rows', 600)\n",
    "pd.set_option('display.max_columns', 50)\n",
    "\n",
    "import lightgbm as lgb\n",
    "from sklearn.linear_model import LinearRegression\n",
    "from sklearn.metrics import r2_score, mean_squared_error\n",
    "from tqdm import tqdm_notebook\n",
    "\n",
    "from itertools import product\n",
    "\n",
    "\n",
    "def downcast_dtypes(df):\n",
    "    '''\n",
    "        Changes column types in the dataframe: \n",
    "                \n",
    "                `float64` type to `float32`\n",
    "                `int64`   type to `int32`\n",
    "    '''\n",
    "    \n",
    "    # Select columns to downcast\n",
    "    float_cols = [c for c in df if df[c].dtype == \"float64\"]\n",
    "    int_cols =   [c for c in df if df[c].dtype == \"int64\"]\n",
    "    \n",
    "    # Downcast\n",
    "    df[float_cols] = df[float_cols].astype(np.float32)\n",
    "    df[int_cols]   = df[int_cols].astype(np.int32)\n",
    "    \n",
    "    return df"
   ]
  },
  {
   "cell_type": "code",
   "execution_count": 2,
   "metadata": {
    "collapsed": true
   },
   "outputs": [],
   "source": [
    "DATA_FOLDER = '../readonly/final_project_data/'\n",
    "\n",
    "sales    = pd.read_csv(os.path.join(DATA_FOLDER, 'sales_train.csv.gz'))\n",
    "items           = pd.read_csv(os.path.join(DATA_FOLDER, 'items.csv'))\n",
    "item_categories = pd.read_csv(os.path.join(DATA_FOLDER, 'item_categories.csv'))\n",
    "shops           = pd.read_csv(os.path.join(DATA_FOLDER, 'shops.csv'))\n",
    "train           = pd.read_csv(os.path.join(DATA_FOLDER, 'sales_train.csv.gz'), compression='gzip')\n",
    "test           = pd.read_csv(os.path.join(DATA_FOLDER, 'test.csv'))"
   ]
  },
  {
   "cell_type": "markdown",
   "metadata": {},
   "source": [
    "# EDA"
   ]
  },
  {
   "cell_type": "markdown",
   "metadata": {},
   "source": [
    "Shape of the loaded dataframes"
   ]
  },
  {
   "cell_type": "code",
   "execution_count": 3,
   "metadata": {},
   "outputs": [
    {
     "name": "stdout",
     "output_type": "stream",
     "text": [
      "sales shape (2935849, 6)\n",
      "items shape (22170, 3)\n",
      "item_categories shape (84, 2)\n",
      "shops shape (60, 2)\n",
      "train shape (2935849, 6)\n",
      "test shape (214200, 3)\n"
     ]
    }
   ],
   "source": [
    "print ('sales shape %s' % np.str(sales.shape))\n",
    "print ('items shape %s' % np.str(items.shape))\n",
    "print ('item_categories shape %s' % np.str(item_categories.shape))\n",
    "print ('shops shape %s' % np.str(shops.shape))\n",
    "print ('train shape %s' % np.str(train.shape))\n",
    "print ('test shape %s' % np.str(test.shape))"
   ]
  },
  {
   "cell_type": "markdown",
   "metadata": {},
   "source": [
    "Browse data heads to get an idea of the data"
   ]
  },
  {
   "cell_type": "code",
   "execution_count": 4,
   "metadata": {},
   "outputs": [
    {
     "data": {
      "text/html": [
       "<div>\n",
       "<style>\n",
       "    .dataframe thead tr:only-child th {\n",
       "        text-align: right;\n",
       "    }\n",
       "\n",
       "    .dataframe thead th {\n",
       "        text-align: left;\n",
       "    }\n",
       "\n",
       "    .dataframe tbody tr th {\n",
       "        vertical-align: top;\n",
       "    }\n",
       "</style>\n",
       "<table border=\"1\" class=\"dataframe\">\n",
       "  <thead>\n",
       "    <tr style=\"text-align: right;\">\n",
       "      <th></th>\n",
       "      <th>date</th>\n",
       "      <th>date_block_num</th>\n",
       "      <th>shop_id</th>\n",
       "      <th>item_id</th>\n",
       "      <th>item_price</th>\n",
       "      <th>item_cnt_day</th>\n",
       "    </tr>\n",
       "  </thead>\n",
       "  <tbody>\n",
       "    <tr>\n",
       "      <th>0</th>\n",
       "      <td>02.01.2013</td>\n",
       "      <td>0</td>\n",
       "      <td>59</td>\n",
       "      <td>22154</td>\n",
       "      <td>999.00</td>\n",
       "      <td>1.0</td>\n",
       "    </tr>\n",
       "    <tr>\n",
       "      <th>1</th>\n",
       "      <td>03.01.2013</td>\n",
       "      <td>0</td>\n",
       "      <td>25</td>\n",
       "      <td>2552</td>\n",
       "      <td>899.00</td>\n",
       "      <td>1.0</td>\n",
       "    </tr>\n",
       "    <tr>\n",
       "      <th>2</th>\n",
       "      <td>05.01.2013</td>\n",
       "      <td>0</td>\n",
       "      <td>25</td>\n",
       "      <td>2552</td>\n",
       "      <td>899.00</td>\n",
       "      <td>-1.0</td>\n",
       "    </tr>\n",
       "    <tr>\n",
       "      <th>3</th>\n",
       "      <td>06.01.2013</td>\n",
       "      <td>0</td>\n",
       "      <td>25</td>\n",
       "      <td>2554</td>\n",
       "      <td>1709.05</td>\n",
       "      <td>1.0</td>\n",
       "    </tr>\n",
       "    <tr>\n",
       "      <th>4</th>\n",
       "      <td>15.01.2013</td>\n",
       "      <td>0</td>\n",
       "      <td>25</td>\n",
       "      <td>2555</td>\n",
       "      <td>1099.00</td>\n",
       "      <td>1.0</td>\n",
       "    </tr>\n",
       "  </tbody>\n",
       "</table>\n",
       "</div>"
      ],
      "text/plain": [
       "         date  date_block_num  shop_id  item_id  item_price  item_cnt_day\n",
       "0  02.01.2013               0       59    22154      999.00           1.0\n",
       "1  03.01.2013               0       25     2552      899.00           1.0\n",
       "2  05.01.2013               0       25     2552      899.00          -1.0\n",
       "3  06.01.2013               0       25     2554     1709.05           1.0\n",
       "4  15.01.2013               0       25     2555     1099.00           1.0"
      ]
     },
     "execution_count": 4,
     "metadata": {},
     "output_type": "execute_result"
    }
   ],
   "source": [
    "sales.head()"
   ]
  },
  {
   "cell_type": "markdown",
   "metadata": {},
   "source": [
    "Note. The negative values in item_cnt_day are returned items"
   ]
  },
  {
   "cell_type": "code",
   "execution_count": 5,
   "metadata": {},
   "outputs": [
    {
     "data": {
      "text/html": [
       "<div>\n",
       "<style>\n",
       "    .dataframe thead tr:only-child th {\n",
       "        text-align: right;\n",
       "    }\n",
       "\n",
       "    .dataframe thead th {\n",
       "        text-align: left;\n",
       "    }\n",
       "\n",
       "    .dataframe tbody tr th {\n",
       "        vertical-align: top;\n",
       "    }\n",
       "</style>\n",
       "<table border=\"1\" class=\"dataframe\">\n",
       "  <thead>\n",
       "    <tr style=\"text-align: right;\">\n",
       "      <th></th>\n",
       "      <th>item_name</th>\n",
       "      <th>item_id</th>\n",
       "      <th>item_category_id</th>\n",
       "    </tr>\n",
       "  </thead>\n",
       "  <tbody>\n",
       "    <tr>\n",
       "      <th>0</th>\n",
       "      <td>! ВО ВЛАСТИ НАВАЖДЕНИЯ (ПЛАСТ.)         D</td>\n",
       "      <td>0</td>\n",
       "      <td>40</td>\n",
       "    </tr>\n",
       "    <tr>\n",
       "      <th>1</th>\n",
       "      <td>!ABBYY FineReader 12 Professional Edition Full...</td>\n",
       "      <td>1</td>\n",
       "      <td>76</td>\n",
       "    </tr>\n",
       "    <tr>\n",
       "      <th>2</th>\n",
       "      <td>***В ЛУЧАХ СЛАВЫ   (UNV)                    D</td>\n",
       "      <td>2</td>\n",
       "      <td>40</td>\n",
       "    </tr>\n",
       "    <tr>\n",
       "      <th>3</th>\n",
       "      <td>***ГОЛУБАЯ ВОЛНА  (Univ)                      D</td>\n",
       "      <td>3</td>\n",
       "      <td>40</td>\n",
       "    </tr>\n",
       "    <tr>\n",
       "      <th>4</th>\n",
       "      <td>***КОРОБКА (СТЕКЛО)                       D</td>\n",
       "      <td>4</td>\n",
       "      <td>40</td>\n",
       "    </tr>\n",
       "  </tbody>\n",
       "</table>\n",
       "</div>"
      ],
      "text/plain": [
       "                                           item_name  item_id  \\\n",
       "0          ! ВО ВЛАСТИ НАВАЖДЕНИЯ (ПЛАСТ.)         D        0   \n",
       "1  !ABBYY FineReader 12 Professional Edition Full...        1   \n",
       "2      ***В ЛУЧАХ СЛАВЫ   (UNV)                    D        2   \n",
       "3    ***ГОЛУБАЯ ВОЛНА  (Univ)                      D        3   \n",
       "4        ***КОРОБКА (СТЕКЛО)                       D        4   \n",
       "\n",
       "   item_category_id  \n",
       "0                40  \n",
       "1                76  \n",
       "2                40  \n",
       "3                40  \n",
       "4                40  "
      ]
     },
     "execution_count": 5,
     "metadata": {},
     "output_type": "execute_result"
    }
   ],
   "source": [
    "items.head()"
   ]
  },
  {
   "cell_type": "code",
   "execution_count": 6,
   "metadata": {},
   "outputs": [
    {
     "data": {
      "text/html": [
       "<div>\n",
       "<style>\n",
       "    .dataframe thead tr:only-child th {\n",
       "        text-align: right;\n",
       "    }\n",
       "\n",
       "    .dataframe thead th {\n",
       "        text-align: left;\n",
       "    }\n",
       "\n",
       "    .dataframe tbody tr th {\n",
       "        vertical-align: top;\n",
       "    }\n",
       "</style>\n",
       "<table border=\"1\" class=\"dataframe\">\n",
       "  <thead>\n",
       "    <tr style=\"text-align: right;\">\n",
       "      <th></th>\n",
       "      <th>item_category_name</th>\n",
       "      <th>item_category_id</th>\n",
       "    </tr>\n",
       "  </thead>\n",
       "  <tbody>\n",
       "    <tr>\n",
       "      <th>0</th>\n",
       "      <td>PC - Гарнитуры/Наушники</td>\n",
       "      <td>0</td>\n",
       "    </tr>\n",
       "    <tr>\n",
       "      <th>1</th>\n",
       "      <td>Аксессуары - PS2</td>\n",
       "      <td>1</td>\n",
       "    </tr>\n",
       "    <tr>\n",
       "      <th>2</th>\n",
       "      <td>Аксессуары - PS3</td>\n",
       "      <td>2</td>\n",
       "    </tr>\n",
       "    <tr>\n",
       "      <th>3</th>\n",
       "      <td>Аксессуары - PS4</td>\n",
       "      <td>3</td>\n",
       "    </tr>\n",
       "    <tr>\n",
       "      <th>4</th>\n",
       "      <td>Аксессуары - PSP</td>\n",
       "      <td>4</td>\n",
       "    </tr>\n",
       "  </tbody>\n",
       "</table>\n",
       "</div>"
      ],
      "text/plain": [
       "        item_category_name  item_category_id\n",
       "0  PC - Гарнитуры/Наушники                 0\n",
       "1         Аксессуары - PS2                 1\n",
       "2         Аксессуары - PS3                 2\n",
       "3         Аксессуары - PS4                 3\n",
       "4         Аксессуары - PSP                 4"
      ]
     },
     "execution_count": 6,
     "metadata": {},
     "output_type": "execute_result"
    }
   ],
   "source": [
    "item_categories.head()"
   ]
  },
  {
   "cell_type": "code",
   "execution_count": 7,
   "metadata": {},
   "outputs": [
    {
     "data": {
      "text/html": [
       "<div>\n",
       "<style>\n",
       "    .dataframe thead tr:only-child th {\n",
       "        text-align: right;\n",
       "    }\n",
       "\n",
       "    .dataframe thead th {\n",
       "        text-align: left;\n",
       "    }\n",
       "\n",
       "    .dataframe tbody tr th {\n",
       "        vertical-align: top;\n",
       "    }\n",
       "</style>\n",
       "<table border=\"1\" class=\"dataframe\">\n",
       "  <thead>\n",
       "    <tr style=\"text-align: right;\">\n",
       "      <th></th>\n",
       "      <th>shop_name</th>\n",
       "      <th>shop_id</th>\n",
       "    </tr>\n",
       "  </thead>\n",
       "  <tbody>\n",
       "    <tr>\n",
       "      <th>0</th>\n",
       "      <td>!Якутск Орджоникидзе, 56 фран</td>\n",
       "      <td>0</td>\n",
       "    </tr>\n",
       "    <tr>\n",
       "      <th>1</th>\n",
       "      <td>!Якутск ТЦ \"Центральный\" фран</td>\n",
       "      <td>1</td>\n",
       "    </tr>\n",
       "    <tr>\n",
       "      <th>2</th>\n",
       "      <td>Адыгея ТЦ \"Мега\"</td>\n",
       "      <td>2</td>\n",
       "    </tr>\n",
       "    <tr>\n",
       "      <th>3</th>\n",
       "      <td>Балашиха ТРК \"Октябрь-Киномир\"</td>\n",
       "      <td>3</td>\n",
       "    </tr>\n",
       "    <tr>\n",
       "      <th>4</th>\n",
       "      <td>Волжский ТЦ \"Волга Молл\"</td>\n",
       "      <td>4</td>\n",
       "    </tr>\n",
       "  </tbody>\n",
       "</table>\n",
       "</div>"
      ],
      "text/plain": [
       "                        shop_name  shop_id\n",
       "0   !Якутск Орджоникидзе, 56 фран        0\n",
       "1   !Якутск ТЦ \"Центральный\" фран        1\n",
       "2                Адыгея ТЦ \"Мега\"        2\n",
       "3  Балашиха ТРК \"Октябрь-Киномир\"        3\n",
       "4        Волжский ТЦ \"Волга Молл\"        4"
      ]
     },
     "execution_count": 7,
     "metadata": {},
     "output_type": "execute_result"
    }
   ],
   "source": [
    "shops.head()"
   ]
  },
  {
   "cell_type": "code",
   "execution_count": 8,
   "metadata": {},
   "outputs": [
    {
     "data": {
      "text/html": [
       "<div>\n",
       "<style>\n",
       "    .dataframe thead tr:only-child th {\n",
       "        text-align: right;\n",
       "    }\n",
       "\n",
       "    .dataframe thead th {\n",
       "        text-align: left;\n",
       "    }\n",
       "\n",
       "    .dataframe tbody tr th {\n",
       "        vertical-align: top;\n",
       "    }\n",
       "</style>\n",
       "<table border=\"1\" class=\"dataframe\">\n",
       "  <thead>\n",
       "    <tr style=\"text-align: right;\">\n",
       "      <th></th>\n",
       "      <th>date</th>\n",
       "      <th>date_block_num</th>\n",
       "      <th>shop_id</th>\n",
       "      <th>item_id</th>\n",
       "      <th>item_price</th>\n",
       "      <th>item_cnt_day</th>\n",
       "    </tr>\n",
       "  </thead>\n",
       "  <tbody>\n",
       "    <tr>\n",
       "      <th>0</th>\n",
       "      <td>02.01.2013</td>\n",
       "      <td>0</td>\n",
       "      <td>59</td>\n",
       "      <td>22154</td>\n",
       "      <td>999.00</td>\n",
       "      <td>1.0</td>\n",
       "    </tr>\n",
       "    <tr>\n",
       "      <th>1</th>\n",
       "      <td>03.01.2013</td>\n",
       "      <td>0</td>\n",
       "      <td>25</td>\n",
       "      <td>2552</td>\n",
       "      <td>899.00</td>\n",
       "      <td>1.0</td>\n",
       "    </tr>\n",
       "    <tr>\n",
       "      <th>2</th>\n",
       "      <td>05.01.2013</td>\n",
       "      <td>0</td>\n",
       "      <td>25</td>\n",
       "      <td>2552</td>\n",
       "      <td>899.00</td>\n",
       "      <td>-1.0</td>\n",
       "    </tr>\n",
       "    <tr>\n",
       "      <th>3</th>\n",
       "      <td>06.01.2013</td>\n",
       "      <td>0</td>\n",
       "      <td>25</td>\n",
       "      <td>2554</td>\n",
       "      <td>1709.05</td>\n",
       "      <td>1.0</td>\n",
       "    </tr>\n",
       "    <tr>\n",
       "      <th>4</th>\n",
       "      <td>15.01.2013</td>\n",
       "      <td>0</td>\n",
       "      <td>25</td>\n",
       "      <td>2555</td>\n",
       "      <td>1099.00</td>\n",
       "      <td>1.0</td>\n",
       "    </tr>\n",
       "  </tbody>\n",
       "</table>\n",
       "</div>"
      ],
      "text/plain": [
       "         date  date_block_num  shop_id  item_id  item_price  item_cnt_day\n",
       "0  02.01.2013               0       59    22154      999.00           1.0\n",
       "1  03.01.2013               0       25     2552      899.00           1.0\n",
       "2  05.01.2013               0       25     2552      899.00          -1.0\n",
       "3  06.01.2013               0       25     2554     1709.05           1.0\n",
       "4  15.01.2013               0       25     2555     1099.00           1.0"
      ]
     },
     "execution_count": 8,
     "metadata": {},
     "output_type": "execute_result"
    }
   ],
   "source": [
    "train.head()"
   ]
  },
  {
   "cell_type": "code",
   "execution_count": 9,
   "metadata": {},
   "outputs": [
    {
     "data": {
      "text/html": [
       "<div>\n",
       "<style>\n",
       "    .dataframe thead tr:only-child th {\n",
       "        text-align: right;\n",
       "    }\n",
       "\n",
       "    .dataframe thead th {\n",
       "        text-align: left;\n",
       "    }\n",
       "\n",
       "    .dataframe tbody tr th {\n",
       "        vertical-align: top;\n",
       "    }\n",
       "</style>\n",
       "<table border=\"1\" class=\"dataframe\">\n",
       "  <thead>\n",
       "    <tr style=\"text-align: right;\">\n",
       "      <th></th>\n",
       "      <th>ID</th>\n",
       "      <th>shop_id</th>\n",
       "      <th>item_id</th>\n",
       "    </tr>\n",
       "  </thead>\n",
       "  <tbody>\n",
       "    <tr>\n",
       "      <th>0</th>\n",
       "      <td>0</td>\n",
       "      <td>5</td>\n",
       "      <td>5037</td>\n",
       "    </tr>\n",
       "    <tr>\n",
       "      <th>1</th>\n",
       "      <td>1</td>\n",
       "      <td>5</td>\n",
       "      <td>5320</td>\n",
       "    </tr>\n",
       "    <tr>\n",
       "      <th>2</th>\n",
       "      <td>2</td>\n",
       "      <td>5</td>\n",
       "      <td>5233</td>\n",
       "    </tr>\n",
       "    <tr>\n",
       "      <th>3</th>\n",
       "      <td>3</td>\n",
       "      <td>5</td>\n",
       "      <td>5232</td>\n",
       "    </tr>\n",
       "    <tr>\n",
       "      <th>4</th>\n",
       "      <td>4</td>\n",
       "      <td>5</td>\n",
       "      <td>5268</td>\n",
       "    </tr>\n",
       "  </tbody>\n",
       "</table>\n",
       "</div>"
      ],
      "text/plain": [
       "   ID  shop_id  item_id\n",
       "0   0        5     5037\n",
       "1   1        5     5320\n",
       "2   2        5     5233\n",
       "3   3        5     5232\n",
       "4   4        5     5268"
      ]
     },
     "execution_count": 9,
     "metadata": {},
     "output_type": "execute_result"
    }
   ],
   "source": [
    "test.head()"
   ]
  },
  {
   "cell_type": "markdown",
   "metadata": {},
   "source": [
    "I join the data to get the consolidated base data frame\n",
    "\n",
    "1st I add category description to the items df"
   ]
  },
  {
   "cell_type": "code",
   "execution_count": 10,
   "metadata": {
    "collapsed": true
   },
   "outputs": [],
   "source": [
    "items_merge = pd.merge(left = items, right = item_categories , left_on = 'item_category_id', right_on = 'item_category_id')"
   ]
  },
  {
   "cell_type": "code",
   "execution_count": 11,
   "metadata": {},
   "outputs": [
    {
     "name": "stdout",
     "output_type": "stream",
     "text": [
      "                                           item_name  item_id  \\\n",
      "0          ! ВО ВЛАСТИ НАВАЖДЕНИЯ (ПЛАСТ.)         D        0   \n",
      "1      ***В ЛУЧАХ СЛАВЫ   (UNV)                    D        2   \n",
      "2    ***ГОЛУБАЯ ВОЛНА  (Univ)                      D        3   \n",
      "3        ***КОРОБКА (СТЕКЛО)                       D        4   \n",
      "4  ***НОВЫЕ АМЕРИКАНСКИЕ ГРАФФИТИ  (UNI)         ...        5   \n",
      "\n",
      "   item_category_id item_category_name  \n",
      "0                40         Кино - DVD  \n",
      "1                40         Кино - DVD  \n",
      "2                40         Кино - DVD  \n",
      "3                40         Кино - DVD  \n",
      "4                40         Кино - DVD  \n"
     ]
    }
   ],
   "source": [
    "print (items_merge.head())"
   ]
  },
  {
   "cell_type": "markdown",
   "metadata": {},
   "source": [
    "Then I add the category to the items sold"
   ]
  },
  {
   "cell_type": "code",
   "execution_count": 12,
   "metadata": {
    "collapsed": true
   },
   "outputs": [],
   "source": [
    "sales_merge = pd.merge(left = sales,right = items_merge, left_on ='item_id', right_on = 'item_id' )"
   ]
  },
  {
   "cell_type": "code",
   "execution_count": 13,
   "metadata": {},
   "outputs": [
    {
     "name": "stdout",
     "output_type": "stream",
     "text": [
      "         date  date_block_num  shop_id  item_id  item_price  item_cnt_day  \\\n",
      "0  02.01.2013               0       59    22154       999.0           1.0   \n",
      "1  23.01.2013               0       24    22154       999.0           1.0   \n",
      "2  20.01.2013               0       27    22154       999.0           1.0   \n",
      "3  02.01.2013               0       25    22154       999.0           1.0   \n",
      "4  03.01.2013               0       25    22154       999.0           1.0   \n",
      "\n",
      "           item_name  item_category_id item_category_name  \n",
      "0  ЯВЛЕНИЕ 2012 (BD)                37     Кино - Blu-Ray  \n",
      "1  ЯВЛЕНИЕ 2012 (BD)                37     Кино - Blu-Ray  \n",
      "2  ЯВЛЕНИЕ 2012 (BD)                37     Кино - Blu-Ray  \n",
      "3  ЯВЛЕНИЕ 2012 (BD)                37     Кино - Blu-Ray  \n",
      "4  ЯВЛЕНИЕ 2012 (BD)                37     Кино - Blu-Ray  \n"
     ]
    }
   ],
   "source": [
    "print (sales_merge.head())"
   ]
  },
  {
   "cell_type": "markdown",
   "metadata": {},
   "source": [
    "check the time span of the training data"
   ]
  },
  {
   "cell_type": "code",
   "execution_count": 14,
   "metadata": {},
   "outputs": [
    {
     "name": "stdout",
     "output_type": "stream",
     "text": [
      "Sale from 2013-01-01 00:00:00 to 2015-10-31 00:00:00\n"
     ]
    }
   ],
   "source": [
    "dates_df = pd.to_datetime(sales_merge['date'],format='%d.%m.%Y')\n",
    "print ('Sale from %s to %s' % (str(dates_df.min()),str(dates_df.max())))"
   ]
  },
  {
   "cell_type": "markdown",
   "metadata": {},
   "source": [
    "#### Note. 2 years & 10 months of sales data. I need to predict the sales in November 2015\n",
    "\n",
    "### Missing Data "
   ]
  },
  {
   "cell_type": "code",
   "execution_count": 15,
   "metadata": {},
   "outputs": [
    {
     "data": {
      "text/plain": [
       "date                  0\n",
       "date_block_num        0\n",
       "shop_id               0\n",
       "item_id               0\n",
       "item_price            0\n",
       "item_cnt_day          0\n",
       "item_name             0\n",
       "item_category_id      0\n",
       "item_category_name    0\n",
       "dtype: int64"
      ]
     },
     "execution_count": 15,
     "metadata": {},
     "output_type": "execute_result"
    }
   ],
   "source": [
    "# missing values?\n",
    "sales_merge.isnull().sum()"
   ]
  },
  {
   "cell_type": "markdown",
   "metadata": {},
   "source": [
    "No missing data, all columns have been populated\n",
    "\n",
    "I visualize how prices are distributed to understand whether there are some dummy values & outliers."
   ]
  },
  {
   "cell_type": "code",
   "execution_count": 16,
   "metadata": {},
   "outputs": [
    {
     "data": {
      "text/plain": [
       "<matplotlib.axes._subplots.AxesSubplot at 0x24392fca8d0>"
      ]
     },
     "execution_count": 16,
     "metadata": {},
     "output_type": "execute_result"
    },
    {
     "data": {
      "image/png": "[encoded data removed]",
      "text/plain": [
       "<matplotlib.figure.Figure at 0x24396e4c588>"
      ]
     },
     "metadata": {},
     "output_type": "display_data"
    }
   ],
   "source": [
    "sales_merge.boxplot(column = 'item_price')      "
   ]
  },
  {
   "cell_type": "code",
   "execution_count": 17,
   "metadata": {},
   "outputs": [
    {
     "data": {
      "image/png": "[encoded data removed]",
      "text/plain": [
       "<matplotlib.figure.Figure at 0x24396f3b2e8>"
      ]
     },
     "metadata": {},
     "output_type": "display_data"
    }
   ],
   "source": [
    "plt.scatter(sales_merge.item_category_id,sales_merge.item_price)\n",
    "plt.show()"
   ]
  },
  {
   "cell_type": "markdown",
   "metadata": {},
   "source": [
    "What I did is the following:\n",
    "* 1st I have checked the prices alone & noticed that most prices are < 100000. \n",
    "* Then I have checked the distribution of prices over the item categories & observed that the price > 100000 should be an outlier\n",
    "\n",
    "Now I quantify the items that are extremely highly priced to confirm I can remove them from the data"
   ]
  },
  {
   "cell_type": "code",
   "execution_count": 18,
   "metadata": {},
   "outputs": [
    {
     "data": {
      "text/html": [
       "<div>\n",
       "<style>\n",
       "    .dataframe thead tr:only-child th {\n",
       "        text-align: right;\n",
       "    }\n",
       "\n",
       "    .dataframe thead th {\n",
       "        text-align: left;\n",
       "    }\n",
       "\n",
       "    .dataframe tbody tr th {\n",
       "        vertical-align: top;\n",
       "    }\n",
       "</style>\n",
       "<table border=\"1\" class=\"dataframe\">\n",
       "  <thead>\n",
       "    <tr style=\"text-align: right;\">\n",
       "      <th></th>\n",
       "      <th>date</th>\n",
       "      <th>date_block_num</th>\n",
       "      <th>shop_id</th>\n",
       "      <th>item_id</th>\n",
       "      <th>item_price</th>\n",
       "      <th>item_cnt_day</th>\n",
       "      <th>item_name</th>\n",
       "      <th>item_category_id</th>\n",
       "      <th>item_category_name</th>\n",
       "    </tr>\n",
       "  </thead>\n",
       "  <tbody>\n",
       "    <tr>\n",
       "      <th>2163826</th>\n",
       "      <td>13.12.2013</td>\n",
       "      <td>11</td>\n",
       "      <td>12</td>\n",
       "      <td>6066</td>\n",
       "      <td>307980.0</td>\n",
       "      <td>1.0</td>\n",
       "      <td>Radmin 3  - 522 лиц.</td>\n",
       "      <td>75</td>\n",
       "      <td>Программы - Для дома и офиса</td>\n",
       "    </tr>\n",
       "  </tbody>\n",
       "</table>\n",
       "</div>"
      ],
      "text/plain": [
       "               date  date_block_num  shop_id  item_id  item_price  \\\n",
       "2163826  13.12.2013              11       12     6066    307980.0   \n",
       "\n",
       "         item_cnt_day             item_name  item_category_id  \\\n",
       "2163826           1.0  Radmin 3  - 522 лиц.                75   \n",
       "\n",
       "                   item_category_name  \n",
       "2163826  Программы - Для дома и офиса  "
      ]
     },
     "execution_count": 18,
     "metadata": {},
     "output_type": "execute_result"
    }
   ],
   "source": [
    "sales_merge[sales_merge.item_price > 100000]"
   ]
  },
  {
   "cell_type": "code",
   "execution_count": 19,
   "metadata": {},
   "outputs": [
    {
     "data": {
      "text/plain": [
       "1859.8670734734765"
      ]
     },
     "execution_count": 19,
     "metadata": {},
     "output_type": "execute_result"
    }
   ],
   "source": [
    "sales_merge[sales_merge.item_category_id == 75]['item_price'].mean()"
   ]
  },
  {
   "cell_type": "markdown",
   "metadata": {},
   "source": [
    "#### Note. The high price is probably a typo. I updated the data with the mean"
   ]
  },
  {
   "cell_type": "code",
   "execution_count": 20,
   "metadata": {},
   "outputs": [],
   "source": [
    "sales_merge.at[2163826, 'item_price'] = 1859"
   ]
  },
  {
   "cell_type": "code",
   "execution_count": 21,
   "metadata": {},
   "outputs": [
    {
     "data": {
      "text/plain": [
       "date                                    13.12.2013\n",
       "date_block_num                                  11\n",
       "shop_id                                         12\n",
       "item_id                                       6066\n",
       "item_price                                    1859\n",
       "item_cnt_day                                     1\n",
       "item_name                     Radmin 3  - 522 лиц.\n",
       "item_category_id                                75\n",
       "item_category_name    Программы - Для дома и офиса\n",
       "Name: 2163826, dtype: object"
      ]
     },
     "execution_count": 21,
     "metadata": {},
     "output_type": "execute_result"
    }
   ],
   "source": [
    "sales_merge.iloc[2163826]"
   ]
  },
  {
   "cell_type": "markdown",
   "metadata": {},
   "source": [
    "## Gaio Data Cleansing"
   ]
  },
  {
   "cell_type": "code",
   "execution_count": 25,
   "metadata": {
    "collapsed": true
   },
   "outputs": [],
   "source": [
    "sales.at[2163826, 'item_price'] = 1859\n",
    "sales = sales[sales.item_cnt_day<=1000]"
   ]
  },
  {
   "cell_type": "markdown",
   "metadata": {},
   "source": [
    "Now I am going to visualize the sales over the train period by grouping the items sold by month"
   ]
  },
  {
   "cell_type": "code",
   "execution_count": 26,
   "metadata": {
    "collapsed": true
   },
   "outputs": [],
   "source": [
    "aggrMonth = sales_merge.groupby(['date_block_num'])[['item_cnt_day']].sum()"
   ]
  },
  {
   "cell_type": "code",
   "execution_count": 27,
   "metadata": {},
   "outputs": [
    {
     "data": {
      "image/png": "[encoded data removed]",
      "text/plain": [
       "<matplotlib.figure.Figure at 0x243976116a0>"
      ]
     },
     "metadata": {},
     "output_type": "display_data"
    }
   ],
   "source": [
    "plt.plot(aggrMonth.item_cnt_day)\n",
    "plt.title (\"Items Sold/Month\")\n",
    "plt.xlabel(\"month\") \n",
    "plt.ylabel(\"items sold\") \n",
    "plt.rcParams[\"figure.figsize\"] = (20,10)\n",
    "plt.show()"
   ]
  },
  {
   "cell_type": "markdown",
   "metadata": {},
   "source": [
    "NOTES: \n",
    "\n",
    "* There seems to be some seasonality in the sales, with an indication of simmetry.\n",
    "* We can notice a sharp increase followed by a sharp decrease around the spikes. This can be exploited by adding lagged features."
   ]
  },
  {
   "cell_type": "markdown",
   "metadata": {},
   "source": [
    "# Features generation\n",
    "\n",
    "### Group data by shop, item & month"
   ]
  },
  {
   "cell_type": "code",
   "execution_count": 28,
   "metadata": {},
   "outputs": [],
   "source": [
    "from itertools import product\n",
    "index_cols = ['shop_id', 'item_id', 'date_block_num']\n",
    "\n",
    "# For every month we create a grid from all shops/items combinations from that month\n",
    "grid = [] \n",
    "for block_num in sales['date_block_num'].unique():\n",
    "    cur_shops = sales[sales['date_block_num']==block_num]['shop_id'].unique()\n",
    "    cur_items = sales[sales['date_block_num']==block_num]['item_id'].unique()\n",
    "    grid.append(np.array(list(product(*[cur_shops, cur_items, [block_num]])),dtype='int32'))\n",
    "#turn the grid into pandas dataframe\n",
    "grid = pd.DataFrame(np.vstack(grid), columns = index_cols,dtype=np.int32)"
   ]
  },
  {
   "cell_type": "code",
   "execution_count": 30,
   "metadata": {
    "collapsed": true
   },
   "outputs": [],
   "source": [
    "#get aggregated values for (shop_id, item_id, month)\n",
    "#gb = sales.groupby(index_cols,as_index=False).agg({'item_cnt_day':{'target':'sum'}})\n",
    "#fix column names\n",
    "#gb.columns = [col[0] if col[-1]=='' else col[-1] for col in gb.columns.values]\n",
    "#join aggregated data to the grid\n",
    "#all_data = pd.merge(grid,gb,how='left',on=index_cols).fillna(0)\n",
    "#sort the data\n",
    "#all_data.sort_values(['date_block_num','shop_id','item_id'],inplace=True)"
   ]
  },
  {
   "cell_type": "code",
   "execution_count": 31,
   "metadata": {},
   "outputs": [],
   "source": [
    "sales_m = sales.groupby(['date_block_num','shop_id','item_id']).agg({'item_cnt_day': 'sum','item_price': np.mean}).reset_index()\n",
    "sales_m = pd.merge(grid,sales_m,on=['date_block_num','shop_id','item_id'],how='left').fillna(0)\n",
    "# adding the category id too\n",
    "sales_m = pd.merge(sales_m,items,on=['item_id'],how='left')"
   ]
  },
  {
   "cell_type": "code",
   "execution_count": 32,
   "metadata": {},
   "outputs": [
    {
     "data": {
      "text/html": [
       "<div>\n",
       "<style>\n",
       "    .dataframe thead tr:only-child th {\n",
       "        text-align: right;\n",
       "    }\n",
       "\n",
       "    .dataframe thead th {\n",
       "        text-align: left;\n",
       "    }\n",
       "\n",
       "    .dataframe tbody tr th {\n",
       "        vertical-align: top;\n",
       "    }\n",
       "</style>\n",
       "<table border=\"1\" class=\"dataframe\">\n",
       "  <thead>\n",
       "    <tr style=\"text-align: right;\">\n",
       "      <th></th>\n",
       "      <th>shop_id</th>\n",
       "      <th>item_id</th>\n",
       "      <th>date_block_num</th>\n",
       "      <th>item_cnt_day</th>\n",
       "      <th>item_price</th>\n",
       "      <th>item_name</th>\n",
       "      <th>item_category_id</th>\n",
       "    </tr>\n",
       "  </thead>\n",
       "  <tbody>\n",
       "    <tr>\n",
       "      <th>0</th>\n",
       "      <td>59</td>\n",
       "      <td>22154</td>\n",
       "      <td>0</td>\n",
       "      <td>1.0</td>\n",
       "      <td>999.0</td>\n",
       "      <td>ЯВЛЕНИЕ 2012 (BD)</td>\n",
       "      <td>37</td>\n",
       "    </tr>\n",
       "    <tr>\n",
       "      <th>1</th>\n",
       "      <td>59</td>\n",
       "      <td>2552</td>\n",
       "      <td>0</td>\n",
       "      <td>0.0</td>\n",
       "      <td>0.0</td>\n",
       "      <td>DEEP PURPLE  The House Of Blue Light  LP</td>\n",
       "      <td>58</td>\n",
       "    </tr>\n",
       "    <tr>\n",
       "      <th>2</th>\n",
       "      <td>59</td>\n",
       "      <td>2554</td>\n",
       "      <td>0</td>\n",
       "      <td>0.0</td>\n",
       "      <td>0.0</td>\n",
       "      <td>DEEP PURPLE  Who Do You Think We Are  LP</td>\n",
       "      <td>58</td>\n",
       "    </tr>\n",
       "    <tr>\n",
       "      <th>3</th>\n",
       "      <td>59</td>\n",
       "      <td>2555</td>\n",
       "      <td>0</td>\n",
       "      <td>0.0</td>\n",
       "      <td>0.0</td>\n",
       "      <td>DEEP PURPLE 30 Very Best Of 2CD (Фирм.)</td>\n",
       "      <td>56</td>\n",
       "    </tr>\n",
       "    <tr>\n",
       "      <th>4</th>\n",
       "      <td>59</td>\n",
       "      <td>2564</td>\n",
       "      <td>0</td>\n",
       "      <td>0.0</td>\n",
       "      <td>0.0</td>\n",
       "      <td>DEEP PURPLE Perihelion: Live In Concert DVD (К...</td>\n",
       "      <td>59</td>\n",
       "    </tr>\n",
       "  </tbody>\n",
       "</table>\n",
       "</div>"
      ],
      "text/plain": [
       "   shop_id  item_id  date_block_num  item_cnt_day  item_price  \\\n",
       "0       59    22154               0           1.0       999.0   \n",
       "1       59     2552               0           0.0         0.0   \n",
       "2       59     2554               0           0.0         0.0   \n",
       "3       59     2555               0           0.0         0.0   \n",
       "4       59     2564               0           0.0         0.0   \n",
       "\n",
       "                                           item_name  item_category_id  \n",
       "0                                  ЯВЛЕНИЕ 2012 (BD)                37  \n",
       "1           DEEP PURPLE  The House Of Blue Light  LP                58  \n",
       "2           DEEP PURPLE  Who Do You Think We Are  LP                58  \n",
       "3            DEEP PURPLE 30 Very Best Of 2CD (Фирм.)                56  \n",
       "4  DEEP PURPLE Perihelion: Live In Concert DVD (К...                59  "
      ]
     },
     "execution_count": 32,
     "metadata": {},
     "output_type": "execute_result"
    }
   ],
   "source": [
    "sales_m.head()"
   ]
  },
  {
   "cell_type": "code",
   "execution_count": 43,
   "metadata": {},
   "outputs": [],
   "source": [
    "for type_id in ['item_id','shop_id','item_category_id']:\n",
    "    for column_id,aggregator,aggtype in [('item_price',np.mean,'avg'),('item_cnt_day',np.sum,'sum'),('item_cnt_day',np.mean,'avg')]:\n",
    "\n",
    "        mean_df = sales_m.groupby([type_id,'date_block_num']).aggregate(aggregator).reset_index()[[column_id,type_id,'date_block_num']]\n",
    "        mean_df.columns = [type_id+'_'+aggtype+'_'+column_id,type_id,'date_block_num']\n",
    "\n",
    "        sales_m = pd.merge(sales_m,mean_df,on=['date_block_num',type_id],how='left')"
   ]
  },
  {
   "cell_type": "code",
   "execution_count": 44,
   "metadata": {},
   "outputs": [
    {
     "data": {
      "text/html": [
       "<div>\n",
       "<style>\n",
       "    .dataframe thead tr:only-child th {\n",
       "        text-align: right;\n",
       "    }\n",
       "\n",
       "    .dataframe thead th {\n",
       "        text-align: left;\n",
       "    }\n",
       "\n",
       "    .dataframe tbody tr th {\n",
       "        vertical-align: top;\n",
       "    }\n",
       "</style>\n",
       "<table border=\"1\" class=\"dataframe\">\n",
       "  <thead>\n",
       "    <tr style=\"text-align: right;\">\n",
       "      <th></th>\n",
       "      <th>shop_id</th>\n",
       "      <th>item_id</th>\n",
       "      <th>date_block_num</th>\n",
       "      <th>item_cnt_day</th>\n",
       "      <th>item_price</th>\n",
       "      <th>item_name</th>\n",
       "      <th>item_category_id</th>\n",
       "      <th>item_id_avg_item_price_x</th>\n",
       "      <th>item_id_sum_item_cnt_day_x</th>\n",
       "      <th>item_id_avg_item_cnt_day_x</th>\n",
       "      <th>shop_id_avg_item_price_x</th>\n",
       "      <th>shop_id_sum_item_cnt_day_x</th>\n",
       "      <th>shop_id_avg_item_cnt_day_x</th>\n",
       "      <th>item_id_avg_item_price_y</th>\n",
       "      <th>item_id_sum_item_cnt_day_y</th>\n",
       "      <th>item_id_avg_item_cnt_day_y</th>\n",
       "      <th>shop_id_avg_item_price_y</th>\n",
       "      <th>shop_id_sum_item_cnt_day_y</th>\n",
       "      <th>shop_id_avg_item_cnt_day_y</th>\n",
       "      <th>item_id_avg_item_price</th>\n",
       "      <th>item_id_sum_item_cnt_day</th>\n",
       "      <th>item_id_avg_item_cnt_day</th>\n",
       "      <th>shop_id_avg_item_price</th>\n",
       "      <th>shop_id_sum_item_cnt_day</th>\n",
       "      <th>shop_id_avg_item_cnt_day</th>\n",
       "      <th>item_category_id_avg_item_price</th>\n",
       "      <th>item_category_id_sum_item_cnt_day</th>\n",
       "      <th>item_category_id_avg_item_cnt_day</th>\n",
       "    </tr>\n",
       "  </thead>\n",
       "  <tbody>\n",
       "    <tr>\n",
       "      <th>0</th>\n",
       "      <td>59</td>\n",
       "      <td>22154</td>\n",
       "      <td>0</td>\n",
       "      <td>1.0</td>\n",
       "      <td>999.0</td>\n",
       "      <td>ЯВЛЕНИЕ 2012 (BD)</td>\n",
       "      <td>37</td>\n",
       "      <td>999.00</td>\n",
       "      <td>18.0</td>\n",
       "      <td>1.0</td>\n",
       "      <td>820.174553</td>\n",
       "      <td>2017.0</td>\n",
       "      <td>1.092041</td>\n",
       "      <td>999.00</td>\n",
       "      <td>18.0</td>\n",
       "      <td>1.0</td>\n",
       "      <td>820.174553</td>\n",
       "      <td>2017.0</td>\n",
       "      <td>1.092041</td>\n",
       "      <td>310.800000</td>\n",
       "      <td>18.0</td>\n",
       "      <td>0.400000</td>\n",
       "      <td>97.974472</td>\n",
       "      <td>2017.0</td>\n",
       "      <td>0.248552</td>\n",
       "      <td>63.014719</td>\n",
       "      <td>6094.0</td>\n",
       "      <td>0.199738</td>\n",
       "    </tr>\n",
       "    <tr>\n",
       "      <th>1</th>\n",
       "      <td>59</td>\n",
       "      <td>2552</td>\n",
       "      <td>0</td>\n",
       "      <td>0.0</td>\n",
       "      <td>0.0</td>\n",
       "      <td>DEEP PURPLE  The House Of Blue Light  LP</td>\n",
       "      <td>58</td>\n",
       "      <td>899.00</td>\n",
       "      <td>0.0</td>\n",
       "      <td>0.0</td>\n",
       "      <td>820.174553</td>\n",
       "      <td>2017.0</td>\n",
       "      <td>1.092041</td>\n",
       "      <td>899.00</td>\n",
       "      <td>0.0</td>\n",
       "      <td>0.0</td>\n",
       "      <td>820.174553</td>\n",
       "      <td>2017.0</td>\n",
       "      <td>1.092041</td>\n",
       "      <td>19.977778</td>\n",
       "      <td>0.0</td>\n",
       "      <td>0.000000</td>\n",
       "      <td>97.974472</td>\n",
       "      <td>2017.0</td>\n",
       "      <td>0.248552</td>\n",
       "      <td>54.898665</td>\n",
       "      <td>287.0</td>\n",
       "      <td>0.043386</td>\n",
       "    </tr>\n",
       "    <tr>\n",
       "      <th>2</th>\n",
       "      <td>59</td>\n",
       "      <td>2554</td>\n",
       "      <td>0</td>\n",
       "      <td>0.0</td>\n",
       "      <td>0.0</td>\n",
       "      <td>DEEP PURPLE  Who Do You Think We Are  LP</td>\n",
       "      <td>58</td>\n",
       "      <td>1709.05</td>\n",
       "      <td>1.0</td>\n",
       "      <td>1.0</td>\n",
       "      <td>820.174553</td>\n",
       "      <td>2017.0</td>\n",
       "      <td>1.092041</td>\n",
       "      <td>1709.05</td>\n",
       "      <td>1.0</td>\n",
       "      <td>1.0</td>\n",
       "      <td>820.174553</td>\n",
       "      <td>2017.0</td>\n",
       "      <td>1.092041</td>\n",
       "      <td>37.978889</td>\n",
       "      <td>1.0</td>\n",
       "      <td>0.022222</td>\n",
       "      <td>97.974472</td>\n",
       "      <td>2017.0</td>\n",
       "      <td>0.248552</td>\n",
       "      <td>54.898665</td>\n",
       "      <td>287.0</td>\n",
       "      <td>0.043386</td>\n",
       "    </tr>\n",
       "    <tr>\n",
       "      <th>3</th>\n",
       "      <td>59</td>\n",
       "      <td>2555</td>\n",
       "      <td>0</td>\n",
       "      <td>0.0</td>\n",
       "      <td>0.0</td>\n",
       "      <td>DEEP PURPLE 30 Very Best Of 2CD (Фирм.)</td>\n",
       "      <td>56</td>\n",
       "      <td>1098.85</td>\n",
       "      <td>2.0</td>\n",
       "      <td>1.0</td>\n",
       "      <td>820.174553</td>\n",
       "      <td>2017.0</td>\n",
       "      <td>1.092041</td>\n",
       "      <td>1098.85</td>\n",
       "      <td>2.0</td>\n",
       "      <td>1.0</td>\n",
       "      <td>820.174553</td>\n",
       "      <td>2017.0</td>\n",
       "      <td>1.092041</td>\n",
       "      <td>48.837778</td>\n",
       "      <td>2.0</td>\n",
       "      <td>0.044444</td>\n",
       "      <td>97.974472</td>\n",
       "      <td>2017.0</td>\n",
       "      <td>0.248552</td>\n",
       "      <td>38.267019</td>\n",
       "      <td>268.0</td>\n",
       "      <td>0.049630</td>\n",
       "    </tr>\n",
       "    <tr>\n",
       "      <th>4</th>\n",
       "      <td>59</td>\n",
       "      <td>2564</td>\n",
       "      <td>0</td>\n",
       "      <td>0.0</td>\n",
       "      <td>0.0</td>\n",
       "      <td>DEEP PURPLE Perihelion: Live In Concert DVD (К...</td>\n",
       "      <td>59</td>\n",
       "      <td>327.60</td>\n",
       "      <td>5.0</td>\n",
       "      <td>1.0</td>\n",
       "      <td>820.174553</td>\n",
       "      <td>2017.0</td>\n",
       "      <td>1.092041</td>\n",
       "      <td>327.60</td>\n",
       "      <td>5.0</td>\n",
       "      <td>1.0</td>\n",
       "      <td>820.174553</td>\n",
       "      <td>2017.0</td>\n",
       "      <td>1.092041</td>\n",
       "      <td>36.400000</td>\n",
       "      <td>5.0</td>\n",
       "      <td>0.111111</td>\n",
       "      <td>97.974472</td>\n",
       "      <td>2017.0</td>\n",
       "      <td>0.248552</td>\n",
       "      <td>35.593867</td>\n",
       "      <td>701.0</td>\n",
       "      <td>0.093280</td>\n",
       "    </tr>\n",
       "  </tbody>\n",
       "</table>\n",
       "</div>"
      ],
      "text/plain": [
       "   shop_id  item_id  date_block_num  item_cnt_day  item_price  \\\n",
       "0       59    22154               0           1.0       999.0   \n",
       "1       59     2552               0           0.0         0.0   \n",
       "2       59     2554               0           0.0         0.0   \n",
       "3       59     2555               0           0.0         0.0   \n",
       "4       59     2564               0           0.0         0.0   \n",
       "\n",
       "                                           item_name  item_category_id  \\\n",
       "0                                  ЯВЛЕНИЕ 2012 (BD)                37   \n",
       "1           DEEP PURPLE  The House Of Blue Light  LP                58   \n",
       "2           DEEP PURPLE  Who Do You Think We Are  LP                58   \n",
       "3            DEEP PURPLE 30 Very Best Of 2CD (Фирм.)                56   \n",
       "4  DEEP PURPLE Perihelion: Live In Concert DVD (К...                59   \n",
       "\n",
       "   item_id_avg_item_price_x  item_id_sum_item_cnt_day_x  \\\n",
       "0                    999.00                        18.0   \n",
       "1                    899.00                         0.0   \n",
       "2                   1709.05                         1.0   \n",
       "3                   1098.85                         2.0   \n",
       "4                    327.60                         5.0   \n",
       "\n",
       "   item_id_avg_item_cnt_day_x  shop_id_avg_item_price_x  \\\n",
       "0                         1.0                820.174553   \n",
       "1                         0.0                820.174553   \n",
       "2                         1.0                820.174553   \n",
       "3                         1.0                820.174553   \n",
       "4                         1.0                820.174553   \n",
       "\n",
       "   shop_id_sum_item_cnt_day_x  shop_id_avg_item_cnt_day_x  \\\n",
       "0                      2017.0                    1.092041   \n",
       "1                      2017.0                    1.092041   \n",
       "2                      2017.0                    1.092041   \n",
       "3                      2017.0                    1.092041   \n",
       "4                      2017.0                    1.092041   \n",
       "\n",
       "   item_id_avg_item_price_y  item_id_sum_item_cnt_day_y  \\\n",
       "0                    999.00                        18.0   \n",
       "1                    899.00                         0.0   \n",
       "2                   1709.05                         1.0   \n",
       "3                   1098.85                         2.0   \n",
       "4                    327.60                         5.0   \n",
       "\n",
       "   item_id_avg_item_cnt_day_y  shop_id_avg_item_price_y  \\\n",
       "0                         1.0                820.174553   \n",
       "1                         0.0                820.174553   \n",
       "2                         1.0                820.174553   \n",
       "3                         1.0                820.174553   \n",
       "4                         1.0                820.174553   \n",
       "\n",
       "   shop_id_sum_item_cnt_day_y  shop_id_avg_item_cnt_day_y  \\\n",
       "0                      2017.0                    1.092041   \n",
       "1                      2017.0                    1.092041   \n",
       "2                      2017.0                    1.092041   \n",
       "3                      2017.0                    1.092041   \n",
       "4                      2017.0                    1.092041   \n",
       "\n",
       "   item_id_avg_item_price  item_id_sum_item_cnt_day  item_id_avg_item_cnt_day  \\\n",
       "0              310.800000                      18.0                  0.400000   \n",
       "1               19.977778                       0.0                  0.000000   \n",
       "2               37.978889                       1.0                  0.022222   \n",
       "3               48.837778                       2.0                  0.044444   \n",
       "4               36.400000                       5.0                  0.111111   \n",
       "\n",
       "   shop_id_avg_item_price  shop_id_sum_item_cnt_day  shop_id_avg_item_cnt_day  \\\n",
       "0               97.974472                    2017.0                  0.248552   \n",
       "1               97.974472                    2017.0                  0.248552   \n",
       "2               97.974472                    2017.0                  0.248552   \n",
       "3               97.974472                    2017.0                  0.248552   \n",
       "4               97.974472                    2017.0                  0.248552   \n",
       "\n",
       "   item_category_id_avg_item_price  item_category_id_sum_item_cnt_day  \\\n",
       "0                        63.014719                             6094.0   \n",
       "1                        54.898665                              287.0   \n",
       "2                        54.898665                              287.0   \n",
       "3                        38.267019                              268.0   \n",
       "4                        35.593867                              701.0   \n",
       "\n",
       "   item_category_id_avg_item_cnt_day  \n",
       "0                           0.199738  \n",
       "1                           0.043386  \n",
       "2                           0.043386  \n",
       "3                           0.049630  \n",
       "4                           0.093280  "
      ]
     },
     "execution_count": 44,
     "metadata": {},
     "output_type": "execute_result"
    }
   ],
   "source": [
    "sales_m.head()"
   ]
  },
  {
   "cell_type": "code",
   "execution_count": 22,
   "metadata": {},
   "outputs": [
    {
     "data": {
      "text/html": [
       "<div>\n",
       "<style>\n",
       "    .dataframe thead tr:only-child th {\n",
       "        text-align: right;\n",
       "    }\n",
       "\n",
       "    .dataframe thead th {\n",
       "        text-align: left;\n",
       "    }\n",
       "\n",
       "    .dataframe tbody tr th {\n",
       "        vertical-align: top;\n",
       "    }\n",
       "</style>\n",
       "<table border=\"1\" class=\"dataframe\">\n",
       "  <thead>\n",
       "    <tr style=\"text-align: right;\">\n",
       "      <th></th>\n",
       "      <th>shop_id</th>\n",
       "      <th>item_id</th>\n",
       "      <th>date_block_num</th>\n",
       "      <th>target</th>\n",
       "    </tr>\n",
       "  </thead>\n",
       "  <tbody>\n",
       "    <tr>\n",
       "      <th>139255</th>\n",
       "      <td>0</td>\n",
       "      <td>19</td>\n",
       "      <td>0</td>\n",
       "      <td>0.0</td>\n",
       "    </tr>\n",
       "    <tr>\n",
       "      <th>141495</th>\n",
       "      <td>0</td>\n",
       "      <td>27</td>\n",
       "      <td>0</td>\n",
       "      <td>0.0</td>\n",
       "    </tr>\n",
       "    <tr>\n",
       "      <th>144968</th>\n",
       "      <td>0</td>\n",
       "      <td>28</td>\n",
       "      <td>0</td>\n",
       "      <td>0.0</td>\n",
       "    </tr>\n",
       "    <tr>\n",
       "      <th>142661</th>\n",
       "      <td>0</td>\n",
       "      <td>29</td>\n",
       "      <td>0</td>\n",
       "      <td>0.0</td>\n",
       "    </tr>\n",
       "    <tr>\n",
       "      <th>138947</th>\n",
       "      <td>0</td>\n",
       "      <td>32</td>\n",
       "      <td>0</td>\n",
       "      <td>6.0</td>\n",
       "    </tr>\n",
       "  </tbody>\n",
       "</table>\n",
       "</div>"
      ],
      "text/plain": [
       "        shop_id  item_id  date_block_num  target\n",
       "139255        0       19               0     0.0\n",
       "141495        0       27               0     0.0\n",
       "144968        0       28               0     0.0\n",
       "142661        0       29               0     0.0\n",
       "138947        0       32               0     6.0"
      ]
     },
     "execution_count": 22,
     "metadata": {},
     "output_type": "execute_result"
    }
   ],
   "source": [
    "all_data.head()"
   ]
  },
  {
   "cell_type": "code",
   "execution_count": null,
   "metadata": {
    "collapsed": true
   },
   "outputs": [],
   "source": []
  },
  {
   "cell_type": "code",
   "execution_count": null,
   "metadata": {
    "collapsed": true
   },
   "outputs": [],
   "source": []
  },
  {
   "cell_type": "markdown",
   "metadata": {},
   "source": [
    "I am going to add the test data as month 34"
   ]
  },
  {
   "cell_type": "code",
   "execution_count": 30,
   "metadata": {
    "collapsed": true
   },
   "outputs": [],
   "source": [
    "#add the category to the items sold\n",
    "all_data_merge = pd.merge(left = all_data,right = items_merge, left_on ='item_id', right_on = 'item_id' )"
   ]
  },
  {
   "cell_type": "code",
   "execution_count": 31,
   "metadata": {},
   "outputs": [
    {
     "data": {
      "text/html": [
       "<div>\n",
       "<style>\n",
       "    .dataframe thead tr:only-child th {\n",
       "        text-align: right;\n",
       "    }\n",
       "\n",
       "    .dataframe thead th {\n",
       "        text-align: left;\n",
       "    }\n",
       "\n",
       "    .dataframe tbody tr th {\n",
       "        vertical-align: top;\n",
       "    }\n",
       "</style>\n",
       "<table border=\"1\" class=\"dataframe\">\n",
       "  <thead>\n",
       "    <tr style=\"text-align: right;\">\n",
       "      <th></th>\n",
       "      <th>shop_id</th>\n",
       "      <th>item_id</th>\n",
       "      <th>date_block_num</th>\n",
       "      <th>target</th>\n",
       "      <th>item_name</th>\n",
       "      <th>item_category_id</th>\n",
       "      <th>item_category_name</th>\n",
       "    </tr>\n",
       "  </thead>\n",
       "  <tbody>\n",
       "    <tr>\n",
       "      <th>0</th>\n",
       "      <td>0</td>\n",
       "      <td>19</td>\n",
       "      <td>0</td>\n",
       "      <td>0.0</td>\n",
       "      <td>/ЗОЛОТАЯ КОЛЛЕКЦИЯ м/ф-72</td>\n",
       "      <td>40</td>\n",
       "      <td>Кино - DVD</td>\n",
       "    </tr>\n",
       "    <tr>\n",
       "      <th>1</th>\n",
       "      <td>1</td>\n",
       "      <td>19</td>\n",
       "      <td>0</td>\n",
       "      <td>0.0</td>\n",
       "      <td>/ЗОЛОТАЯ КОЛЛЕКЦИЯ м/ф-72</td>\n",
       "      <td>40</td>\n",
       "      <td>Кино - DVD</td>\n",
       "    </tr>\n",
       "    <tr>\n",
       "      <th>2</th>\n",
       "      <td>2</td>\n",
       "      <td>19</td>\n",
       "      <td>0</td>\n",
       "      <td>0.0</td>\n",
       "      <td>/ЗОЛОТАЯ КОЛЛЕКЦИЯ м/ф-72</td>\n",
       "      <td>40</td>\n",
       "      <td>Кино - DVD</td>\n",
       "    </tr>\n",
       "    <tr>\n",
       "      <th>3</th>\n",
       "      <td>3</td>\n",
       "      <td>19</td>\n",
       "      <td>0</td>\n",
       "      <td>0.0</td>\n",
       "      <td>/ЗОЛОТАЯ КОЛЛЕКЦИЯ м/ф-72</td>\n",
       "      <td>40</td>\n",
       "      <td>Кино - DVD</td>\n",
       "    </tr>\n",
       "    <tr>\n",
       "      <th>4</th>\n",
       "      <td>4</td>\n",
       "      <td>19</td>\n",
       "      <td>0</td>\n",
       "      <td>0.0</td>\n",
       "      <td>/ЗОЛОТАЯ КОЛЛЕКЦИЯ м/ф-72</td>\n",
       "      <td>40</td>\n",
       "      <td>Кино - DVD</td>\n",
       "    </tr>\n",
       "  </tbody>\n",
       "</table>\n",
       "</div>"
      ],
      "text/plain": [
       "   shop_id  item_id  date_block_num  target                  item_name  \\\n",
       "0        0       19               0     0.0  /ЗОЛОТАЯ КОЛЛЕКЦИЯ м/ф-72   \n",
       "1        1       19               0     0.0  /ЗОЛОТАЯ КОЛЛЕКЦИЯ м/ф-72   \n",
       "2        2       19               0     0.0  /ЗОЛОТАЯ КОЛЛЕКЦИЯ м/ф-72   \n",
       "3        3       19               0     0.0  /ЗОЛОТАЯ КОЛЛЕКЦИЯ м/ф-72   \n",
       "4        4       19               0     0.0  /ЗОЛОТАЯ КОЛЛЕКЦИЯ м/ф-72   \n",
       "\n",
       "   item_category_id item_category_name  \n",
       "0                40         Кино - DVD  \n",
       "1                40         Кино - DVD  \n",
       "2                40         Кино - DVD  \n",
       "3                40         Кино - DVD  \n",
       "4                40         Кино - DVD  "
      ]
     },
     "execution_count": 31,
     "metadata": {},
     "output_type": "execute_result"
    }
   ],
   "source": [
    "all_data_merge.head()"
   ]
  },
  {
   "cell_type": "code",
   "execution_count": 33,
   "metadata": {
    "collapsed": true
   },
   "outputs": [],
   "source": [
    "all_data_cols = list(all_data)"
   ]
  },
  {
   "cell_type": "code",
   "execution_count": 34,
   "metadata": {},
   "outputs": [
    {
     "data": {
      "text/plain": [
       "33"
      ]
     },
     "execution_count": 34,
     "metadata": {},
     "output_type": "execute_result"
    }
   ],
   "source": [
    "all_data.date_block_num.max()"
   ]
  },
  {
   "cell_type": "code",
   "execution_count": 35,
   "metadata": {
    "collapsed": true
   },
   "outputs": [],
   "source": [
    "df_test_append = pd.DataFrame(index=test.index, columns=all_data_cols)\n",
    "df_test_append = df_test_append.fillna(0)"
   ]
  },
  {
   "cell_type": "code",
   "execution_count": 36,
   "metadata": {
    "collapsed": true
   },
   "outputs": [],
   "source": [
    "df_test_append['shop_id'] = test['shop_id']\n",
    "df_test_append['item_id'] = test['item_id']\n",
    "df_test_append['date_block_num'] = 34"
   ]
  },
  {
   "cell_type": "code",
   "execution_count": 37,
   "metadata": {},
   "outputs": [
    {
     "data": {
      "text/html": [
       "<div>\n",
       "<style>\n",
       "    .dataframe thead tr:only-child th {\n",
       "        text-align: right;\n",
       "    }\n",
       "\n",
       "    .dataframe thead th {\n",
       "        text-align: left;\n",
       "    }\n",
       "\n",
       "    .dataframe tbody tr th {\n",
       "        vertical-align: top;\n",
       "    }\n",
       "</style>\n",
       "<table border=\"1\" class=\"dataframe\">\n",
       "  <thead>\n",
       "    <tr style=\"text-align: right;\">\n",
       "      <th></th>\n",
       "      <th>shop_id</th>\n",
       "      <th>item_id</th>\n",
       "      <th>date_block_num</th>\n",
       "      <th>target</th>\n",
       "    </tr>\n",
       "  </thead>\n",
       "  <tbody>\n",
       "    <tr>\n",
       "      <th>0</th>\n",
       "      <td>5</td>\n",
       "      <td>5037</td>\n",
       "      <td>34</td>\n",
       "      <td>0</td>\n",
       "    </tr>\n",
       "    <tr>\n",
       "      <th>1</th>\n",
       "      <td>5</td>\n",
       "      <td>5320</td>\n",
       "      <td>34</td>\n",
       "      <td>0</td>\n",
       "    </tr>\n",
       "    <tr>\n",
       "      <th>2</th>\n",
       "      <td>5</td>\n",
       "      <td>5233</td>\n",
       "      <td>34</td>\n",
       "      <td>0</td>\n",
       "    </tr>\n",
       "    <tr>\n",
       "      <th>3</th>\n",
       "      <td>5</td>\n",
       "      <td>5232</td>\n",
       "      <td>34</td>\n",
       "      <td>0</td>\n",
       "    </tr>\n",
       "    <tr>\n",
       "      <th>4</th>\n",
       "      <td>5</td>\n",
       "      <td>5268</td>\n",
       "      <td>34</td>\n",
       "      <td>0</td>\n",
       "    </tr>\n",
       "  </tbody>\n",
       "</table>\n",
       "</div>"
      ],
      "text/plain": [
       "   shop_id  item_id  date_block_num  target\n",
       "0        5     5037              34       0\n",
       "1        5     5320              34       0\n",
       "2        5     5233              34       0\n",
       "3        5     5232              34       0\n",
       "4        5     5268              34       0"
      ]
     },
     "execution_count": 37,
     "metadata": {},
     "output_type": "execute_result"
    }
   ],
   "source": [
    "df_test_append.head()"
   ]
  },
  {
   "cell_type": "code",
   "execution_count": 38,
   "metadata": {},
   "outputs": [
    {
     "name": "stdout",
     "output_type": "stream",
     "text": [
      "all_data size is : (11128050, 4)\n"
     ]
    }
   ],
   "source": [
    "all_data = pd.concat((all_data, df_test_append)).reset_index(drop=True)\n",
    "print(\"all_data size is : {}\".format(all_data.shape))"
   ]
  },
  {
   "cell_type": "markdown",
   "metadata": {},
   "source": [
    "After having create the grid, I add the lags up to 1 year before to leverage the sales seasonality"
   ]
  },
  {
   "cell_type": "markdown",
   "metadata": {},
   "source": [
    "# Train/Validation split"
   ]
  },
  {
   "cell_type": "markdown",
   "metadata": {},
   "source": [
    "I will train on the 1st 32 months & validate on the last month"
   ]
  },
  {
   "cell_type": "code",
   "execution_count": 39,
   "metadata": {},
   "outputs": [
    {
     "name": "stdout",
     "output_type": "stream",
     "text": [
      "1st month: 0 , last month: 34\n"
     ]
    }
   ],
   "source": [
    "print ('1st month: %s , last month: %s' % (str(all_data['date_block_num'].min()),str(all_data['date_block_num'].max())))"
   ]
  },
  {
   "cell_type": "code",
   "execution_count": 41,
   "metadata": {
    "collapsed": true
   },
   "outputs": [],
   "source": [
    "dates = all_data['date_block_num']\n",
    "\n",
    "#block 34 is the last & it is the testing block\n",
    "last_block = dates.max() - 1\n",
    "\n",
    "dates_train = dates[dates <  last_block]\n",
    "dates_val  = dates[dates == last_block]\n",
    "dates_test = dates[dates == 34]\n",
    "\n",
    "X_train = all_data.loc[dates <  last_block]\n",
    "X_val =  all_data.loc[dates == last_block]\n",
    "X_test =  all_data.loc[dates == 34]\n",
    "\n",
    "y_train = all_data.loc[dates <  last_block, 'target'].values\n",
    "y_val =  all_data.loc[dates == last_block, 'target'].values"
   ]
  },
  {
   "cell_type": "markdown",
   "metadata": {},
   "source": [
    "# Modeling & Stacking"
   ]
  },
  {
   "cell_type": "markdown",
   "metadata": {},
   "source": [
    "### Define the loss function - RMSE"
   ]
  },
  {
   "cell_type": "code",
   "execution_count": 42,
   "metadata": {
    "collapsed": true
   },
   "outputs": [],
   "source": [
    "def rmse(X,y):\n",
    "    return np.sqrt(mean_squared_error(X, y))"
   ]
  },
  {
   "cell_type": "markdown",
   "metadata": {},
   "source": [
    "1st clip the target"
   ]
  },
  {
   "cell_type": "code",
   "execution_count": 43,
   "metadata": {
    "collapsed": true
   },
   "outputs": [],
   "source": [
    "y_train=np.clip(y_train,0, 20)\n",
    "y_val=np.clip(y_val,0, 20)"
   ]
  },
  {
   "cell_type": "markdown",
   "metadata": {},
   "source": [
    "### 1st Level Models"
   ]
  },
  {
   "cell_type": "markdown",
   "metadata": {},
   "source": [
    "Recall, that we always use first level models to build two datasets: test meta-features and 2-nd level train-metafetures."
   ]
  },
  {
   "cell_type": "markdown",
   "metadata": {},
   "source": [
    "### Test meta-features"
   ]
  },
  {
   "cell_type": "markdown",
   "metadata": {},
   "source": [
    "I train Linear Regression & LightGBM on training & predict on Training & Validation "
   ]
  },
  {
   "cell_type": "code",
   "execution_count": 44,
   "metadata": {},
   "outputs": [
    {
     "name": "stdout",
     "output_type": "stream",
     "text": [
      "Train RMSE is 1.031321\n",
      "Validation RMSE is 1.252604\n"
     ]
    }
   ],
   "source": [
    "lr = LinearRegression()\n",
    "lr.fit(X_train.values, y_train)\n",
    "train_preds = lr.predict(X_train.values)\n",
    "rmse_lr_train = rmse(y_train, train_preds)\n",
    "\n",
    "pred_lr_val = lr.predict(X_val.values)\n",
    "rmse_lr_val = rmse(y_val, pred_lr_val)\n",
    "\n",
    "print('Train RMSE is %f' % rmse_lr_train)\n",
    "print('Validation RMSE is %f' % rmse_lr_val)"
   ]
  },
  {
   "cell_type": "code",
   "execution_count": 45,
   "metadata": {},
   "outputs": [
    {
     "name": "stderr",
     "output_type": "stream",
     "text": [
      "C:\\Users\\User\\Anaconda3\\lib\\site-packages\\lightgbm\\engine.py:103: UserWarning: Found `early_stopping_rounds` in params. Will use it instead of argument\n",
      "  warnings.warn(\"Found `{}` in params. Will use it instead of argument\".format(alias))\n"
     ]
    },
    {
     "name": "stdout",
     "output_type": "stream",
     "text": [
      "[1]\tvalid_0's rmse: 1.10277\n",
      "Training until validation scores don't improve for 1 rounds.\n",
      "[2]\tvalid_0's rmse: 1.06969\n",
      "[3]\tvalid_0's rmse: 1.06855\n",
      "[4]\tvalid_0's rmse: 1.0365\n",
      "[5]\tvalid_0's rmse: 1.00541\n",
      "[6]\tvalid_0's rmse: 0.975257\n",
      "[7]\tvalid_0's rmse: 0.94601\n",
      "[8]\tvalid_0's rmse: 0.917635\n",
      "[9]\tvalid_0's rmse: 0.89011\n",
      "[10]\tvalid_0's rmse: 0.863412\n",
      "[11]\tvalid_0's rmse: 0.837514\n",
      "[12]\tvalid_0's rmse: 0.812399\n",
      "[13]\tvalid_0's rmse: 0.788038\n",
      "[14]\tvalid_0's rmse: 0.787277\n",
      "[15]\tvalid_0's rmse: 0.763674\n",
      "[16]\tvalid_0's rmse: 0.740785\n",
      "[17]\tvalid_0's rmse: 0.718577\n",
      "[18]\tvalid_0's rmse: 0.717902\n",
      "[19]\tvalid_0's rmse: 0.696379\n",
      "[20]\tvalid_0's rmse: 0.675504\n",
      "[21]\tvalid_0's rmse: 0.655266\n",
      "[22]\tvalid_0's rmse: 0.654758\n",
      "[23]\tvalid_0's rmse: 0.635136\n",
      "[24]\tvalid_0's rmse: 0.61611\n",
      "[25]\tvalid_0's rmse: 0.597648\n",
      "[26]\tvalid_0's rmse: 0.597216\n",
      "[27]\tvalid_0's rmse: 0.579329\n",
      "[28]\tvalid_0's rmse: 0.561994\n",
      "[29]\tvalid_0's rmse: 0.561626\n",
      "[30]\tvalid_0's rmse: 0.544814\n",
      "[31]\tvalid_0's rmse: 0.528509\n",
      "[32]\tvalid_0's rmse: 0.51269\n",
      "[33]\tvalid_0's rmse: 0.497358\n",
      "[34]\tvalid_0's rmse: 0.482476\n",
      "[35]\tvalid_0's rmse: 0.468041\n",
      "[36]\tvalid_0's rmse: 0.454038\n",
      "[37]\tvalid_0's rmse: 0.453764\n",
      "[38]\tvalid_0's rmse: 0.440205\n",
      "[39]\tvalid_0's rmse: 0.427055\n",
      "[40]\tvalid_0's rmse: 0.414283\n",
      "[41]\tvalid_0's rmse: 0.401896\n",
      "[42]\tvalid_0's rmse: 0.401688\n",
      "[43]\tvalid_0's rmse: 0.389685\n",
      "[44]\tvalid_0's rmse: 0.378042\n",
      "[45]\tvalid_0's rmse: 0.366758\n",
      "[46]\tvalid_0's rmse: 0.355813\n",
      "[47]\tvalid_0's rmse: 0.345186\n",
      "[48]\tvalid_0's rmse: 0.334888\n",
      "[49]\tvalid_0's rmse: 0.3249\n",
      "[50]\tvalid_0's rmse: 0.315198\n",
      "[51]\tvalid_0's rmse: 0.305791\n",
      "[52]\tvalid_0's rmse: 0.305629\n",
      "[53]\tvalid_0's rmse: 0.296513\n",
      "[54]\tvalid_0's rmse: 0.287669\n",
      "[55]\tvalid_0's rmse: 0.279097\n",
      "[56]\tvalid_0's rmse: 0.278978\n",
      "[57]\tvalid_0's rmse: 0.27066\n",
      "[58]\tvalid_0's rmse: 0.262596\n",
      "[59]\tvalid_0's rmse: 0.262488\n",
      "[60]\tvalid_0's rmse: 0.254673\n",
      "[61]\tvalid_0's rmse: 0.247088\n",
      "[62]\tvalid_0's rmse: 0.246981\n",
      "[63]\tvalid_0's rmse: 0.239635\n",
      "[64]\tvalid_0's rmse: 0.232511\n",
      "[65]\tvalid_0's rmse: 0.225597\n",
      "[66]\tvalid_0's rmse: 0.225512\n",
      "[67]\tvalid_0's rmse: 0.218816\n",
      "[68]\tvalid_0's rmse: 0.212316\n",
      "[69]\tvalid_0's rmse: 0.206019\n",
      "[70]\tvalid_0's rmse: 0.199899\n",
      "[71]\tvalid_0's rmse: 0.193973\n",
      "[72]\tvalid_0's rmse: 0.188218\n",
      "[73]\tvalid_0's rmse: 0.188142\n",
      "[74]\tvalid_0's rmse: 0.182558\n",
      "[75]\tvalid_0's rmse: 0.177143\n",
      "[76]\tvalid_0's rmse: 0.17189\n",
      "[77]\tvalid_0's rmse: 0.1668\n",
      "[78]\tvalid_0's rmse: 0.161874\n",
      "[79]\tvalid_0's rmse: 0.157083\n",
      "[80]\tvalid_0's rmse: 0.15244\n",
      "[81]\tvalid_0's rmse: 0.147932\n",
      "[82]\tvalid_0's rmse: 0.14356\n",
      "[83]\tvalid_0's rmse: 0.139339\n",
      "[84]\tvalid_0's rmse: 0.139293\n",
      "[85]\tvalid_0's rmse: 0.13925\n",
      "[86]\tvalid_0's rmse: 0.135158\n",
      "[87]\tvalid_0's rmse: 0.131192\n",
      "[88]\tvalid_0's rmse: 0.127333\n",
      "[89]\tvalid_0's rmse: 0.127297\n",
      "[90]\tvalid_0's rmse: 0.127265\n",
      "[91]\tvalid_0's rmse: 0.123519\n",
      "[92]\tvalid_0's rmse: 0.119896\n",
      "[93]\tvalid_0's rmse: 0.119871\n",
      "[94]\tvalid_0's rmse: 0.116368\n",
      "[95]\tvalid_0's rmse: 0.116348\n",
      "[96]\tvalid_0's rmse: 0.112938\n",
      "[97]\tvalid_0's rmse: 0.109639\n",
      "[98]\tvalid_0's rmse: 0.109622\n",
      "[99]\tvalid_0's rmse: 0.106414\n",
      "[100]\tvalid_0's rmse: 0.103321\n"
     ]
    }
   ],
   "source": [
    "import lightgbm as lgb\n",
    "#GAIO Update 20.12.2017.3 - updated lgb params\n",
    "lgb_params = {\n",
    "               'feature_fraction': 0.75,\n",
    "               'metric': 'rmse',\n",
    "               'nthread':1, \n",
    "               'min_data_in_leaf': 2**7, \n",
    "               'bagging_fraction': 0.75, \n",
    "               'learning_rate': 0.03, \n",
    "               'objective': 'mse', \n",
    "               'bagging_seed': 2**7, \n",
    "               'num_leaves': 2**7,\n",
    "               'bagging_freq':1,\n",
    "               'verbose':0,\n",
    "                'early_stopping_rounds' :1,\n",
    "                'eval_metric':'rmse'\n",
    "              }\n",
    "\n",
    "#GAIO Update 20.12.2017.3 - introduced early stopping having noticed the model overfitting\n",
    "# create dataset for lightgbm\n",
    "lgb_train = lgb.Dataset(X_train, y_train)\n",
    "lgb_eval = lgb.Dataset(X_val, y_val, reference=lgb_train)\n",
    "\n",
    "model_lgb = lgb.train(lgb_params,                     \n",
    "                      lgb_train,\n",
    "                      num_boost_round=100,\n",
    "                      valid_sets=lgb_eval,\n",
    "                      early_stopping_rounds=5)"
   ]
  },
  {
   "cell_type": "code",
   "execution_count": 46,
   "metadata": {},
   "outputs": [
    {
     "name": "stdout",
     "output_type": "stream",
     "text": [
      "Train R-squared is 0.109490\n",
      "Validation R-squared is 0.103321\n"
     ]
    }
   ],
   "source": [
    "train_preds = model_lgb.predict(X_train)\n",
    "rmse_train = rmse(y_train, train_preds)\n",
    "\n",
    "val_preds = model_lgb.predict(X_val)\n",
    "rmse_val = rmse(y_val, val_preds)\n",
    "\n",
    "print('Train R-squared is %f' % rmse_train)\n",
    "print('Validation R-squared is %f' % rmse_val)"
   ]
  },
  {
   "cell_type": "markdown",
   "metadata": {},
   "source": [
    "Now I predict on the test set & concatenate test predictions to get test meta-features."
   ]
  },
  {
   "cell_type": "code",
   "execution_count": 47,
   "metadata": {
    "collapsed": true
   },
   "outputs": [],
   "source": [
    "pred_lr = lr.predict(X_test.values)\n",
    "pred_lgb = model_lgb.predict(X_test)\n",
    "X_test_level2 = np.c_[pred_lr, pred_lgb] "
   ]
  },
  {
   "cell_type": "markdown",
   "metadata": {},
   "source": [
    "### Train meta-features"
   ]
  },
  {
   "cell_type": "markdown",
   "metadata": {},
   "source": [
    "Here, we will use duration T equal to month and M=15.\n",
    "We get predictions (meta-features) from linear regression and LightGBM for months 27, 28, 29, 30, 31, 32. "
   ]
  },
  {
   "cell_type": "code",
   "execution_count": 48,
   "metadata": {
    "collapsed": true
   },
   "outputs": [],
   "source": [
    "dates_train_level2 = dates_train[dates_train.isin([27, 28, 29, 30, 31, 32])]\n",
    "\n",
    "# That is how we get target for the 2nd level dataset\n",
    "y_train_level2 = y_train[dates_train.isin([27, 28, 29, 30, 31, 32])]"
   ]
  },
  {
   "cell_type": "code",
   "execution_count": 49,
   "metadata": {},
   "outputs": [
    {
     "name": "stdout",
     "output_type": "stream",
     "text": [
      "27\n",
      "28\n",
      "29\n",
      "30\n",
      "31\n",
      "32\n"
     ]
    }
   ],
   "source": [
    "# And here we create 2nd level feeature matrix, init it with zeros first\n",
    "X_train_level2 = np.zeros([y_train_level2.shape[0], 2])\n",
    "\n",
    "# Now fill `X_train_level2` with metafeatures\n",
    "for cur_block_num in [27, 28, 29, 30, 31, 32]:\n",
    "    \n",
    "    print(cur_block_num)\n",
    "    \n",
    "    '''\n",
    "        1. Split `X_train` into parts\n",
    "           Remember, that corresponding dates are stored in `dates_train` \n",
    "        2. Fit linear regression \n",
    "        3. Fit LightGBM and put predictions          \n",
    "        4. Store predictions from 2. and 3. in the right place of `X_train_level2`. \n",
    "           You can use `dates_train_level2` for it\n",
    "           Make sure the order of the meta-features is the same as in `X_test_level2`\n",
    "    '''      \n",
    "    X_train_l1 = X_train.loc[dates_train < cur_block_num]\n",
    "    y_train_l1 = y_train[dates_train < cur_block_num]\n",
    "    X_test_l1 = X_train.loc[dates_train == cur_block_num]\n",
    "        \n",
    "    lr.fit(X_train_l1.values, y_train_l1)\n",
    "    pred_lr = lr.predict(X_test_l1.values)\n",
    "    \n",
    "    model = lgb.train(lgb_params, lgb.Dataset(X_train_l1, label=y_train_l1), 100)\n",
    "    pred_lgb = model.predict(X_test_l1)\n",
    "    \n",
    "    X_train_level2[dates_train_level2 == cur_block_num] = np.c_[pred_lr, pred_lgb] "
   ]
  },
  {
   "cell_type": "markdown",
   "metadata": {},
   "source": [
    "# Ensembling"
   ]
  },
  {
   "cell_type": "markdown",
   "metadata": {},
   "source": [
    "### Simple convex mix"
   ]
  },
  {
   "cell_type": "markdown",
   "metadata": {},
   "source": [
    "Let's start with simple linear convex mix:\n",
    "\n",
    "$$\n",
    "mix= \\alpha\\cdot\\text{linreg_prediction}+(1-\\alpha)\\cdot\\text{lgb_prediction}\n",
    "$$\n",
    "\n",
    "We need to find an optimal $\\alpha$. And it is very easy, as it is feasible to do grid search. Next, find the optimal $\\alpha$ out of `alphas_to_try` array. Remember, that you need to use train meta-features (not test) when searching for $\\alpha$. "
   ]
  },
  {
   "cell_type": "code",
   "execution_count": 53,
   "metadata": {},
   "outputs": [
    {
     "name": "stdout",
     "output_type": "stream",
     "text": [
      "Best alpha: 1.000000; Corresponding RMSE score on train: 1.026269\n"
     ]
    }
   ],
   "source": [
    "alphas_to_try = np.linspace(0, 1, 1001)\n",
    "\n",
    "best_alpha = -1\n",
    "rmse_train_simple_mix = -1000\n",
    "for current_alpha in alphas_to_try:\n",
    "    mix = current_alpha * X_train_level2[:,0] + (1 - current_alpha) * X_train_level2[:,1]\n",
    "    current_rmse = rmse(y_train_level2, mix)\n",
    "    if current_rmse > rmse_train_simple_mix:\n",
    "        best_alpha = current_alpha\n",
    "        rmse_train_simple_mix = current_rmse\n",
    "        \n",
    "print('Best alpha: %f; Corresponding RMSE score on train: %f' % (best_alpha, rmse_train_simple_mix))"
   ]
  },
  {
   "cell_type": "code",
   "execution_count": 54,
   "metadata": {
    "collapsed": true
   },
   "outputs": [],
   "source": [
    "test_preds = best_alpha * X_test_level2[:,0] + (1 - best_alpha) * X_test_level2[:,1]"
   ]
  },
  {
   "cell_type": "code",
   "execution_count": 55,
   "metadata": {
    "collapsed": true
   },
   "outputs": [],
   "source": [
    "#y_test = model_lgb.predict(X_test)\n",
    "#clip the target values in the range 0-20\n",
    "out_df = pd.DataFrame({'ID': test.ID, 'item_cnt_month': np.clip(test_preds,0,20)})\n",
    "# you could use any filename. We choose submission here\n",
    "out_df.to_csv('predict_future_prices_201712261.v0.1.csv', index=False)"
   ]
  },
  {
   "cell_type": "code",
   "execution_count": null,
   "metadata": {
    "collapsed": true
   },
   "outputs": [],
   "source": []
  }
 ],
 "metadata": {
  "hw_version": "1.0.0",
  "kernelspec": {
   "display_name": "Python 3",
   "language": "python",
   "name": "python3"
  },
  "language_info": {
   "codemirror_mode": {
    "name": "ipython",
    "version": 3
   },
   "file_extension": ".py",
   "mimetype": "text/x-python",
   "name": "python",
   "nbconvert_exporter": "python",
   "pygments_lexer": "ipython3",
   "version": "3.6.3"
  },
  "widgets": {
   "state": {
    "0b671e69c2224f37b45e5a1927794395": {
     "views": [
      {
       "cell_index": 51
      }
     ]
    }
   },
   "version": "1.2.0"
  }
 },
 "nbformat": 4,
 "nbformat_minor": 2
}
